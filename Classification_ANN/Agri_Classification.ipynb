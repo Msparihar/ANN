{
 "cells": [
  {
   "cell_type": "code",
   "execution_count": 3,
   "id": "0e02358c",
   "metadata": {},
   "outputs": [
    {
     "name": "stdout",
     "output_type": "stream",
     "text": [
      "Epoch 1/100\n",
      "6/6 [==============================] - 0s 2ms/step - loss: 7.9312 - accuracy: 0.3095\n",
      "Epoch 2/100\n",
      "6/6 [==============================] - 0s 1ms/step - loss: 7.3720 - accuracy: 0.3095\n",
      "Epoch 3/100\n",
      "6/6 [==============================] - 0s 2ms/step - loss: 6.8516 - accuracy: 0.3095\n",
      "Epoch 4/100\n",
      "6/6 [==============================] - 0s 1ms/step - loss: 6.3560 - accuracy: 0.3095\n",
      "Epoch 5/100\n",
      "6/6 [==============================] - 0s 1ms/step - loss: 5.8933 - accuracy: 0.3095\n",
      "Epoch 6/100\n",
      "6/6 [==============================] - 0s 1ms/step - loss: 5.4530 - accuracy: 0.3095\n",
      "Epoch 7/100\n",
      "6/6 [==============================] - 0s 1ms/step - loss: 5.0563 - accuracy: 0.3095\n",
      "Epoch 8/100\n",
      "6/6 [==============================] - 0s 1ms/step - loss: 4.6646 - accuracy: 0.3095\n",
      "Epoch 9/100\n",
      "6/6 [==============================] - 0s 1ms/step - loss: 4.2882 - accuracy: 0.3095\n",
      "Epoch 10/100\n",
      "6/6 [==============================] - 0s 1ms/step - loss: 3.9396 - accuracy: 0.3095\n",
      "Epoch 11/100\n",
      "6/6 [==============================] - 0s 1ms/step - loss: 3.6066 - accuracy: 0.3095\n",
      "Epoch 12/100\n",
      "6/6 [==============================] - 0s 972us/step - loss: 3.3201 - accuracy: 0.3095\n",
      "Epoch 13/100\n",
      "6/6 [==============================] - 0s 1000us/step - loss: 3.0333 - accuracy: 0.3095\n",
      "Epoch 14/100\n",
      "6/6 [==============================] - 0s 2ms/step - loss: 2.7680 - accuracy: 0.3095\n",
      "Epoch 15/100\n",
      "6/6 [==============================] - 0s 1ms/step - loss: 2.5435 - accuracy: 0.3095\n",
      "Epoch 16/100\n",
      "6/6 [==============================] - 0s 1ms/step - loss: 2.3265 - accuracy: 0.3095\n",
      "Epoch 17/100\n",
      "6/6 [==============================] - 0s 2ms/step - loss: 2.1419 - accuracy: 0.3095\n",
      "Epoch 18/100\n",
      "6/6 [==============================] - 0s 775us/step - loss: 1.9753 - accuracy: 0.3095\n",
      "Epoch 19/100\n",
      "6/6 [==============================] - 0s 1ms/step - loss: 1.8215 - accuracy: 0.3095\n",
      "Epoch 20/100\n",
      "6/6 [==============================] - 0s 2ms/step - loss: 1.6914 - accuracy: 0.3095\n",
      "Epoch 21/100\n",
      "6/6 [==============================] - 0s 2ms/step - loss: 1.5754 - accuracy: 0.3155\n",
      "Epoch 22/100\n",
      "6/6 [==============================] - 0s 2ms/step - loss: 1.4708 - accuracy: 0.3274\n",
      "Epoch 23/100\n",
      "6/6 [==============================] - 0s 895us/step - loss: 1.3845 - accuracy: 0.3274\n",
      "Epoch 24/100\n",
      "6/6 [==============================] - 0s 1ms/step - loss: 1.3090 - accuracy: 0.3274\n",
      "Epoch 25/100\n",
      "6/6 [==============================] - 0s 1ms/step - loss: 1.2393 - accuracy: 0.3274\n",
      "Epoch 26/100\n",
      "6/6 [==============================] - 0s 1ms/step - loss: 1.1881 - accuracy: 0.3393\n",
      "Epoch 27/100\n",
      "6/6 [==============================] - 0s 1ms/step - loss: 1.1469 - accuracy: 0.3452\n",
      "Epoch 28/100\n",
      "6/6 [==============================] - 0s 2ms/step - loss: 1.1145 - accuracy: 0.3512\n",
      "Epoch 29/100\n",
      "6/6 [==============================] - 0s 3ms/step - loss: 1.0924 - accuracy: 0.3512\n",
      "Epoch 30/100\n",
      "6/6 [==============================] - 0s 688us/step - loss: 1.0745 - accuracy: 0.3631\n",
      "Epoch 31/100\n",
      "6/6 [==============================] - 0s 849us/step - loss: 1.0595 - accuracy: 0.3690\n",
      "Epoch 32/100\n",
      "6/6 [==============================] - 0s 1ms/step - loss: 1.0450 - accuracy: 0.3988\n",
      "Epoch 33/100\n",
      "6/6 [==============================] - 0s 939us/step - loss: 1.0337 - accuracy: 0.4167\n",
      "Epoch 34/100\n",
      "6/6 [==============================] - 0s 1ms/step - loss: 1.0236 - accuracy: 0.4286\n",
      "Epoch 35/100\n",
      "6/6 [==============================] - 0s 1ms/step - loss: 1.0166 - accuracy: 0.4405\n",
      "Epoch 36/100\n",
      "6/6 [==============================] - 0s 1ms/step - loss: 1.0091 - accuracy: 0.4524\n",
      "Epoch 37/100\n",
      "6/6 [==============================] - 0s 1ms/step - loss: 1.0047 - accuracy: 0.4940\n",
      "Epoch 38/100\n",
      "6/6 [==============================] - 0s 959us/step - loss: 0.9998 - accuracy: 0.5119\n",
      "Epoch 39/100\n",
      "6/6 [==============================] - 0s 1ms/step - loss: 0.9968 - accuracy: 0.5060\n",
      "Epoch 40/100\n",
      "6/6 [==============================] - 0s 1ms/step - loss: 0.9936 - accuracy: 0.5179\n",
      "Epoch 41/100\n",
      "6/6 [==============================] - 0s 2ms/step - loss: 0.9913 - accuracy: 0.5060\n",
      "Epoch 42/100\n",
      "6/6 [==============================] - 0s 1ms/step - loss: 0.9896 - accuracy: 0.5238\n",
      "Epoch 43/100\n",
      "6/6 [==============================] - 0s 1ms/step - loss: 0.9881 - accuracy: 0.5238\n",
      "Epoch 44/100\n",
      "6/6 [==============================] - 0s 2ms/step - loss: 0.9869 - accuracy: 0.5238\n",
      "Epoch 45/100\n",
      "6/6 [==============================] - 0s 1ms/step - loss: 0.9852 - accuracy: 0.5417\n",
      "Epoch 46/100\n",
      "6/6 [==============================] - 0s 1ms/step - loss: 0.9840 - accuracy: 0.5595\n",
      "Epoch 47/100\n",
      "6/6 [==============================] - 0s 1ms/step - loss: 0.9831 - accuracy: 0.5655\n",
      "Epoch 48/100\n",
      "6/6 [==============================] - 0s 1ms/step - loss: 0.9823 - accuracy: 0.5655\n",
      "Epoch 49/100\n",
      "6/6 [==============================] - 0s 1ms/step - loss: 0.9814 - accuracy: 0.5774\n",
      "Epoch 50/100\n",
      "6/6 [==============================] - 0s 1ms/step - loss: 0.9808 - accuracy: 0.5714\n",
      "Epoch 51/100\n",
      "6/6 [==============================] - 0s 1ms/step - loss: 0.9801 - accuracy: 0.5714\n",
      "Epoch 52/100\n",
      "6/6 [==============================] - 0s 1ms/step - loss: 0.9795 - accuracy: 0.5833\n",
      "Epoch 53/100\n",
      "6/6 [==============================] - 0s 1ms/step - loss: 0.9788 - accuracy: 0.5833\n",
      "Epoch 54/100\n",
      "6/6 [==============================] - 0s 1ms/step - loss: 0.9784 - accuracy: 0.5714\n",
      "Epoch 55/100\n",
      "6/6 [==============================] - 0s 1ms/step - loss: 0.9778 - accuracy: 0.5774\n",
      "Epoch 56/100\n",
      "6/6 [==============================] - 0s 779us/step - loss: 0.9773 - accuracy: 0.5774\n",
      "Epoch 57/100\n",
      "6/6 [==============================] - 0s 1ms/step - loss: 0.9769 - accuracy: 0.5774\n",
      "Epoch 58/100\n",
      "6/6 [==============================] - 0s 1ms/step - loss: 0.9766 - accuracy: 0.5774\n",
      "Epoch 59/100\n",
      "6/6 [==============================] - 0s 804us/step - loss: 0.9762 - accuracy: 0.5774\n",
      "Epoch 60/100\n",
      "6/6 [==============================] - 0s 1ms/step - loss: 0.9758 - accuracy: 0.5774\n",
      "Epoch 61/100\n",
      "6/6 [==============================] - 0s 1ms/step - loss: 0.9755 - accuracy: 0.5774\n",
      "Epoch 62/100\n",
      "6/6 [==============================] - 0s 1ms/step - loss: 0.9750 - accuracy: 0.5774\n",
      "Epoch 63/100\n",
      "6/6 [==============================] - 0s 2ms/step - loss: 0.9746 - accuracy: 0.5774\n",
      "Epoch 64/100\n",
      "6/6 [==============================] - 0s 881us/step - loss: 0.9742 - accuracy: 0.5774\n",
      "Epoch 65/100\n",
      "6/6 [==============================] - 0s 1ms/step - loss: 0.9739 - accuracy: 0.5774\n",
      "Epoch 66/100\n",
      "6/6 [==============================] - 0s 1ms/step - loss: 0.9734 - accuracy: 0.5774\n",
      "Epoch 67/100\n",
      "6/6 [==============================] - 0s 1ms/step - loss: 0.9731 - accuracy: 0.5774\n",
      "Epoch 68/100\n",
      "6/6 [==============================] - 0s 1ms/step - loss: 0.9727 - accuracy: 0.5714\n",
      "Epoch 69/100\n",
      "6/6 [==============================] - 0s 1ms/step - loss: 0.9722 - accuracy: 0.5714\n",
      "Epoch 70/100\n",
      "6/6 [==============================] - 0s 988us/step - loss: 0.9719 - accuracy: 0.5774\n",
      "Epoch 71/100\n",
      "6/6 [==============================] - 0s 1ms/step - loss: 0.9715 - accuracy: 0.5774\n",
      "Epoch 72/100\n",
      "6/6 [==============================] - 0s 2ms/step - loss: 0.9711 - accuracy: 0.5655\n",
      "Epoch 73/100\n",
      "6/6 [==============================] - 0s 1ms/step - loss: 0.9707 - accuracy: 0.5714\n",
      "Epoch 74/100\n",
      "6/6 [==============================] - 0s 1ms/step - loss: 0.9702 - accuracy: 0.5655\n",
      "Epoch 75/100\n",
      "6/6 [==============================] - 0s 1ms/step - loss: 0.9698 - accuracy: 0.5655\n",
      "Epoch 76/100\n",
      "6/6 [==============================] - 0s 1ms/step - loss: 0.9694 - accuracy: 0.5655\n",
      "Epoch 77/100\n",
      "6/6 [==============================] - 0s 1ms/step - loss: 0.9690 - accuracy: 0.5655\n",
      "Epoch 78/100\n",
      "6/6 [==============================] - 0s 1ms/step - loss: 0.9686 - accuracy: 0.5655\n",
      "Epoch 79/100\n",
      "6/6 [==============================] - 0s 1ms/step - loss: 0.9682 - accuracy: 0.5655\n",
      "Epoch 80/100\n",
      "6/6 [==============================] - 0s 1ms/step - loss: 0.9677 - accuracy: 0.5655\n",
      "Epoch 81/100\n",
      "6/6 [==============================] - 0s 1ms/step - loss: 0.9673 - accuracy: 0.5774\n",
      "Epoch 82/100\n",
      "6/6 [==============================] - 0s 1ms/step - loss: 0.9670 - accuracy: 0.5774\n",
      "Epoch 83/100\n",
      "6/6 [==============================] - 0s 1ms/step - loss: 0.9665 - accuracy: 0.5774\n",
      "Epoch 84/100\n"
     ]
    },
    {
     "name": "stdout",
     "output_type": "stream",
     "text": [
      "6/6 [==============================] - 0s 1ms/step - loss: 0.9661 - accuracy: 0.5774\n",
      "Epoch 85/100\n",
      "6/6 [==============================] - 0s 1ms/step - loss: 0.9657 - accuracy: 0.5774\n",
      "Epoch 86/100\n",
      "6/6 [==============================] - 0s 1ms/step - loss: 0.9652 - accuracy: 0.5774\n",
      "Epoch 87/100\n",
      "6/6 [==============================] - 0s 1ms/step - loss: 0.9648 - accuracy: 0.5833\n",
      "Epoch 88/100\n",
      "6/6 [==============================] - 0s 1ms/step - loss: 0.9643 - accuracy: 0.5833\n",
      "Epoch 89/100\n",
      "6/6 [==============================] - 0s 1ms/step - loss: 0.9638 - accuracy: 0.5893\n",
      "Epoch 90/100\n",
      "6/6 [==============================] - 0s 977us/step - loss: 0.9634 - accuracy: 0.5893\n",
      "Epoch 91/100\n",
      "6/6 [==============================] - 0s 800us/step - loss: 0.9631 - accuracy: 0.5774\n",
      "Epoch 92/100\n",
      "6/6 [==============================] - 0s 993us/step - loss: 0.9627 - accuracy: 0.5714\n",
      "Epoch 93/100\n",
      "6/6 [==============================] - 0s 1ms/step - loss: 0.9623 - accuracy: 0.5655\n",
      "Epoch 94/100\n",
      "6/6 [==============================] - 0s 1ms/step - loss: 0.9617 - accuracy: 0.5655\n",
      "Epoch 95/100\n",
      "6/6 [==============================] - 0s 999us/step - loss: 0.9612 - accuracy: 0.5714\n",
      "Epoch 96/100\n",
      "6/6 [==============================] - 0s 988us/step - loss: 0.9608 - accuracy: 0.5714\n",
      "Epoch 97/100\n",
      "6/6 [==============================] - 0s 2ms/step - loss: 0.9605 - accuracy: 0.5774\n",
      "Epoch 98/100\n",
      "6/6 [==============================] - 0s 826us/step - loss: 0.9599 - accuracy: 0.5774\n",
      "Epoch 99/100\n",
      "6/6 [==============================] - 0s 1ms/step - loss: 0.9594 - accuracy: 0.5774\n",
      "Epoch 100/100\n",
      "6/6 [==============================] - 0s 918us/step - loss: 0.9590 - accuracy: 0.5774\n",
      "2/2 [==============================] - 0s 14ms/step - loss: 0.9954 - accuracy: 0.5238\n",
      "Test accuracy: 0.523809552192688\n"
     ]
    }
   ],
   "source": [
    "import numpy as np\n",
    "import pandas as pd\n",
    "from sklearn.model_selection import train_test_split\n",
    "from tensorflow import keras\n",
    "\n",
    "# Load data from CSV file\n",
    "data = pd.read_csv(\"wheat.csv\")\n",
    "\n",
    "# Split data into features and target\n",
    "X = data.iloc[:, :-1].values\n",
    "y = data.iloc[:, -1].values\n",
    "\n",
    "# One-hot encode target\n",
    "y = keras.utils.to_categorical(y)\n",
    "\n",
    "# Split data into training and test sets\n",
    "X_train, X_test, y_train, y_test = train_test_split(X, y, test_size=0.2)\n",
    "\n",
    "# Build ANN model\n",
    "model = keras.models.Sequential()\n",
    "model.add(keras.layers.Dense(units=6, input_dim=7, activation='relu'))\n",
    "model.add(keras.layers.Dense(units=3, activation='softmax'))\n",
    "\n",
    "# Compile model\n",
    "model.compile(optimizer='adam', loss='categorical_crossentropy', metrics=['accuracy'])\n",
    "\n",
    "# Train model\n",
    "model.fit(X_train, y_train, batch_size=32, epochs=100)\n",
    "\n",
    "# Evaluate model on test data\n",
    "test_loss, test_acc = model.evaluate(X_test, y_test)\n",
    "print(\"Test accuracy:\", test_acc)\n"
   ]
  },
  {
   "cell_type": "code",
   "execution_count": 4,
   "id": "baa8c10a",
   "metadata": {},
   "outputs": [
    {
     "data": {
      "text/plain": [
       "0.9953627586364746"
      ]
     },
     "execution_count": 4,
     "metadata": {},
     "output_type": "execute_result"
    }
   ],
   "source": [
    "test_loss"
   ]
  },
  {
   "cell_type": "code",
   "execution_count": 13,
   "id": "9e779ce9",
   "metadata": {},
   "outputs": [
    {
     "data": {
      "text/plain": [
       "array([[18.76  , 16.2   ,  0.8984,  6.172 ,  3.796 ,  3.12  ,  6.053 ]])"
      ]
     },
     "execution_count": 13,
     "metadata": {},
     "output_type": "execute_result"
    }
   ],
   "source": [
    "X_test[0].reshape(1,-1)"
   ]
  },
  {
   "cell_type": "code",
   "execution_count": 14,
   "id": "d0fdf6e2",
   "metadata": {},
   "outputs": [
    {
     "name": "stdout",
     "output_type": "stream",
     "text": [
      "1/1 [==============================] - 0s 7ms/step\n"
     ]
    }
   ],
   "source": [
    "prediction = model.predict(X_test[0].reshape(1,-1))"
   ]
  },
  {
   "cell_type": "code",
   "execution_count": 15,
   "id": "09e2e107",
   "metadata": {},
   "outputs": [
    {
     "data": {
      "text/plain": [
       "1"
      ]
     },
     "execution_count": 15,
     "metadata": {},
     "output_type": "execute_result"
    }
   ],
   "source": [
    "len(prediction)\n"
   ]
  },
  {
   "cell_type": "code",
   "execution_count": 16,
   "id": "a919976c",
   "metadata": {},
   "outputs": [
    {
     "data": {
      "text/plain": [
       "array([[0.4599261 , 0.32264343, 0.2174305 ]], dtype=float32)"
      ]
     },
     "execution_count": 16,
     "metadata": {},
     "output_type": "execute_result"
    }
   ],
   "source": [
    "prediction\n"
   ]
  },
  {
   "cell_type": "code",
   "execution_count": 17,
   "id": "0923a722",
   "metadata": {},
   "outputs": [
    {
     "name": "stdout",
     "output_type": "stream",
     "text": [
      "1/1 [==============================] - 0s 16ms/step\n",
      "Prediction: [[0.4599261  0.32264343 0.2174305 ]]\n"
     ]
    }
   ],
   "source": [
    "random_datapoint = np.array([[18.76, 16.2, 0.8984, 6.172, 3.796, 3.12, 6.053]])\n",
    "prediction = model.predict(random_datapoint)\n",
    "print(\"Prediction:\", prediction)\n"
   ]
  },
  {
   "cell_type": "code",
   "execution_count": 18,
   "id": "9366a467",
   "metadata": {},
   "outputs": [
    {
     "name": "stdout",
     "output_type": "stream",
     "text": [
      "Predicted class: 0\n"
     ]
    }
   ],
   "source": [
    "predicted_class = np.argmax(prediction)\n",
    "print(\"Predicted class:\", predicted_class)\n"
   ]
  },
  {
   "cell_type": "code",
   "execution_count": null,
   "id": "143a2b7a",
   "metadata": {},
   "outputs": [],
   "source": []
  }
 ],
 "metadata": {
  "kernelspec": {
   "display_name": "Python 3 (ipykernel)",
   "language": "python",
   "name": "python3"
  },
  "language_info": {
   "codemirror_mode": {
    "name": "ipython",
    "version": 3
   },
   "file_extension": ".py",
   "mimetype": "text/x-python",
   "name": "python",
   "nbconvert_exporter": "python",
   "pygments_lexer": "ipython3",
   "version": "3.10.6"
  }
 },
 "nbformat": 4,
 "nbformat_minor": 5
}
