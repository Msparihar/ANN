{
 "cells": [
  {
   "cell_type": "code",
   "execution_count": 1,
   "id": "b1fd3272",
   "metadata": {},
   "outputs": [],
   "source": [
    "import numpy as np\n",
    "import tensorflow as tf\n",
    "import pandas as pd"
   ]
  },
  {
   "cell_type": "code",
   "execution_count": 2,
   "id": "b6d04725",
   "metadata": {},
   "outputs": [],
   "source": [
    "dataset = pd.read_csv(\"data.csv\")"
   ]
  },
  {
   "cell_type": "code",
   "execution_count": 3,
   "id": "f5fd7d6d",
   "metadata": {},
   "outputs": [],
   "source": [
    "dataset=pd.read_csv('data.csv')\n",
    "X = dataset.iloc[:,:-1].values\n",
    "y = dataset.iloc[:,-1].values\n",
    "test = X[0]"
   ]
  },
  {
   "cell_type": "code",
   "execution_count": 4,
   "id": "5a772d24",
   "metadata": {},
   "outputs": [
    {
     "data": {
      "text/plain": [
       "4"
      ]
     },
     "execution_count": 4,
     "metadata": {},
     "output_type": "execute_result"
    }
   ],
   "source": [
    "np.size(test)\n"
   ]
  },
  {
   "cell_type": "code",
   "execution_count": 5,
   "id": "61f3836e",
   "metadata": {},
   "outputs": [],
   "source": [
    "from sklearn.model_selection import train_test_split\n",
    "X_train, X_test, y_train, y_test = train_test_split(X, y, test_size=0.2)"
   ]
  },
  {
   "cell_type": "code",
   "execution_count": 6,
   "id": "1f6468a4",
   "metadata": {},
   "outputs": [],
   "source": [
    "ann = tf.keras.models.Sequential()\n",
    "ann.add(tf.keras.layers.Dense(units=6,activation=\"relu\"))\n",
    "ann.add(tf.keras.layers.Dense(units=6,activation=\"relu\"))\n",
    "ann.add(tf.keras.layers.Dense(units=1))"
   ]
  },
  {
   "cell_type": "code",
   "execution_count": 7,
   "id": "1ec23ecb",
   "metadata": {},
   "outputs": [],
   "source": [
    "ann.compile(optimizer='adam', loss='mean_squared_error', metrics=['accuracy'])\n"
   ]
  },
  {
   "cell_type": "code",
   "execution_count": 8,
   "id": "752875a8",
   "metadata": {},
   "outputs": [],
   "source": [
    "\n",
    "from tensorflow.keras.losses import Huber\n",
    "ann.compile(loss=Huber(delta=1.5), optimizer='adam', metrics=['mean_absolute_error'])\n"
   ]
  },
  {
   "cell_type": "code",
   "execution_count": 9,
   "id": "c9965706",
   "metadata": {},
   "outputs": [
    {
     "name": "stdout",
     "output_type": "stream",
     "text": [
      "Epoch 1/100\n",
      "240/240 [==============================] - 1s 1ms/step - loss: 513.5392 - mean_absolute_error: 343.1087\n",
      "Epoch 2/100\n",
      "240/240 [==============================] - 0s 1ms/step - loss: 26.6676 - mean_absolute_error: 18.5154\n",
      "Epoch 3/100\n",
      "240/240 [==============================] - 0s 1ms/step - loss: 24.4362 - mean_absolute_error: 17.0269\n",
      "Epoch 4/100\n",
      "240/240 [==============================] - 0s 1ms/step - loss: 22.1665 - mean_absolute_error: 15.5116\n",
      "Epoch 5/100\n",
      "240/240 [==============================] - 0s 1ms/step - loss: 20.2898 - mean_absolute_error: 14.2612\n",
      "Epoch 6/100\n",
      "240/240 [==============================] - 0s 1ms/step - loss: 18.3613 - mean_absolute_error: 12.9733\n",
      "Epoch 7/100\n",
      "240/240 [==============================] - 0s 1ms/step - loss: 16.3900 - mean_absolute_error: 11.6569\n",
      "Epoch 8/100\n",
      "240/240 [==============================] - 0s 1ms/step - loss: 14.6856 - mean_absolute_error: 10.5205\n",
      "Epoch 9/100\n",
      "240/240 [==============================] - 0s 1ms/step - loss: 12.9494 - mean_absolute_error: 9.3586\n",
      "Epoch 10/100\n",
      "240/240 [==============================] - 0s 1ms/step - loss: 11.5658 - mean_absolute_error: 8.4357\n",
      "Epoch 11/100\n",
      "240/240 [==============================] - 0s 1ms/step - loss: 10.1328 - mean_absolute_error: 7.4751\n",
      "Epoch 12/100\n",
      "240/240 [==============================] - 0s 1ms/step - loss: 8.8833 - mean_absolute_error: 6.6372\n",
      "Epoch 13/100\n",
      "240/240 [==============================] - 0s 1ms/step - loss: 7.9505 - mean_absolute_error: 6.0122\n",
      "Epoch 14/100\n",
      "240/240 [==============================] - 0s 1ms/step - loss: 7.1687 - mean_absolute_error: 5.4853\n",
      "Epoch 15/100\n",
      "240/240 [==============================] - 0s 1ms/step - loss: 6.7486 - mean_absolute_error: 5.2031\n",
      "Epoch 16/100\n",
      "240/240 [==============================] - 0s 1ms/step - loss: 6.4436 - mean_absolute_error: 4.9973\n",
      "Epoch 17/100\n",
      "240/240 [==============================] - 0s 1ms/step - loss: 6.2078 - mean_absolute_error: 4.8418\n",
      "Epoch 18/100\n",
      "240/240 [==============================] - 0s 1ms/step - loss: 6.0226 - mean_absolute_error: 4.7146\n",
      "Epoch 19/100\n",
      "240/240 [==============================] - 0s 1ms/step - loss: 5.9427 - mean_absolute_error: 4.6607\n",
      "Epoch 20/100\n",
      "240/240 [==============================] - 0s 1ms/step - loss: 5.8805 - mean_absolute_error: 4.6204\n",
      "Epoch 21/100\n",
      "240/240 [==============================] - 0s 1ms/step - loss: 5.8178 - mean_absolute_error: 4.5772\n",
      "Epoch 22/100\n",
      "240/240 [==============================] - 0s 1ms/step - loss: 5.6760 - mean_absolute_error: 4.4820\n",
      "Epoch 23/100\n",
      "240/240 [==============================] - 0s 1ms/step - loss: 5.6237 - mean_absolute_error: 4.4461\n",
      "Epoch 24/100\n",
      "240/240 [==============================] - 0s 1ms/step - loss: 5.5592 - mean_absolute_error: 4.4031\n",
      "Epoch 25/100\n",
      "240/240 [==============================] - 0s 1ms/step - loss: 5.5433 - mean_absolute_error: 4.3932\n",
      "Epoch 26/100\n",
      "240/240 [==============================] - 0s 1ms/step - loss: 5.5596 - mean_absolute_error: 4.4051\n",
      "Epoch 27/100\n",
      "240/240 [==============================] - 0s 1ms/step - loss: 5.4923 - mean_absolute_error: 4.3605\n",
      "Epoch 28/100\n",
      "240/240 [==============================] - 0s 1ms/step - loss: 5.4819 - mean_absolute_error: 4.3477\n",
      "Epoch 29/100\n",
      "240/240 [==============================] - 0s 1ms/step - loss: 5.3516 - mean_absolute_error: 4.2623\n",
      "Epoch 30/100\n",
      "240/240 [==============================] - 0s 1ms/step - loss: 5.3134 - mean_absolute_error: 4.2356\n",
      "Epoch 31/100\n",
      "240/240 [==============================] - 0s 1ms/step - loss: 5.2947 - mean_absolute_error: 4.2262\n",
      "Epoch 32/100\n",
      "240/240 [==============================] - 0s 1ms/step - loss: 5.2889 - mean_absolute_error: 4.2234\n",
      "Epoch 33/100\n",
      "240/240 [==============================] - 0s 1ms/step - loss: 5.2438 - mean_absolute_error: 4.1909\n",
      "Epoch 34/100\n",
      "240/240 [==============================] - 0s 1ms/step - loss: 5.2403 - mean_absolute_error: 4.1877\n",
      "Epoch 35/100\n",
      "240/240 [==============================] - 0s 1ms/step - loss: 5.2665 - mean_absolute_error: 4.2076\n",
      "Epoch 36/100\n",
      "240/240 [==============================] - 0s 1ms/step - loss: 5.2610 - mean_absolute_error: 4.2023\n",
      "Epoch 37/100\n",
      "240/240 [==============================] - 0s 1ms/step - loss: 5.2591 - mean_absolute_error: 4.1975\n",
      "Epoch 38/100\n",
      "240/240 [==============================] - 0s 1ms/step - loss: 5.2296 - mean_absolute_error: 4.1816\n",
      "Epoch 39/100\n",
      "240/240 [==============================] - 0s 1ms/step - loss: 5.1752 - mean_absolute_error: 4.1457\n",
      "Epoch 40/100\n",
      "240/240 [==============================] - 0s 1ms/step - loss: 5.1938 - mean_absolute_error: 4.1569\n",
      "Epoch 41/100\n",
      "240/240 [==============================] - 0s 1ms/step - loss: 5.1559 - mean_absolute_error: 4.1319\n",
      "Epoch 42/100\n",
      "240/240 [==============================] - 0s 1ms/step - loss: 5.1799 - mean_absolute_error: 4.1483\n",
      "Epoch 43/100\n",
      "240/240 [==============================] - 0s 1ms/step - loss: 5.0861 - mean_absolute_error: 4.0842\n",
      "Epoch 44/100\n",
      "240/240 [==============================] - 0s 1ms/step - loss: 5.1016 - mean_absolute_error: 4.0974\n",
      "Epoch 45/100\n",
      "240/240 [==============================] - 0s 1ms/step - loss: 5.1211 - mean_absolute_error: 4.1097\n",
      "Epoch 46/100\n",
      "240/240 [==============================] - 0s 1ms/step - loss: 5.1486 - mean_absolute_error: 4.1259\n",
      "Epoch 47/100\n",
      "240/240 [==============================] - 0s 1ms/step - loss: 5.1652 - mean_absolute_error: 4.1385\n",
      "Epoch 48/100\n",
      "240/240 [==============================] - 0s 1ms/step - loss: 5.3060 - mean_absolute_error: 4.2319\n",
      "Epoch 49/100\n",
      "240/240 [==============================] - 0s 1ms/step - loss: 5.0947 - mean_absolute_error: 4.0872\n",
      "Epoch 50/100\n",
      "240/240 [==============================] - 0s 2ms/step - loss: 5.1411 - mean_absolute_error: 4.1243\n",
      "Epoch 51/100\n",
      "240/240 [==============================] - 0s 1ms/step - loss: 5.1023 - mean_absolute_error: 4.0952\n",
      "Epoch 52/100\n",
      "240/240 [==============================] - 0s 1ms/step - loss: 5.0969 - mean_absolute_error: 4.0924\n",
      "Epoch 53/100\n",
      "240/240 [==============================] - 0s 1ms/step - loss: 5.1376 - mean_absolute_error: 4.1197\n",
      "Epoch 54/100\n",
      "240/240 [==============================] - 0s 1ms/step - loss: 5.1767 - mean_absolute_error: 4.1469\n",
      "Epoch 55/100\n",
      "240/240 [==============================] - 0s 1ms/step - loss: 5.1393 - mean_absolute_error: 4.1218\n",
      "Epoch 56/100\n",
      "240/240 [==============================] - 0s 1ms/step - loss: 5.0916 - mean_absolute_error: 4.0888\n",
      "Epoch 57/100\n",
      "240/240 [==============================] - 0s 1ms/step - loss: 5.1681 - mean_absolute_error: 4.1405\n",
      "Epoch 58/100\n",
      "240/240 [==============================] - 0s 1ms/step - loss: 5.1460 - mean_absolute_error: 4.1259\n",
      "Epoch 59/100\n",
      "240/240 [==============================] - 0s 1ms/step - loss: 5.0811 - mean_absolute_error: 4.0782\n",
      "Epoch 60/100\n",
      "240/240 [==============================] - 0s 2ms/step - loss: 5.1586 - mean_absolute_error: 4.1346\n",
      "Epoch 61/100\n",
      "240/240 [==============================] - 0s 2ms/step - loss: 5.1628 - mean_absolute_error: 4.1363\n",
      "Epoch 62/100\n",
      "240/240 [==============================] - 0s 1ms/step - loss: 5.1162 - mean_absolute_error: 4.1035\n",
      "Epoch 63/100\n",
      "240/240 [==============================] - 0s 1ms/step - loss: 5.0886 - mean_absolute_error: 4.0850\n",
      "Epoch 64/100\n",
      "240/240 [==============================] - 0s 1ms/step - loss: 5.1378 - mean_absolute_error: 4.1180\n",
      "Epoch 65/100\n",
      "240/240 [==============================] - 0s 1ms/step - loss: 5.1037 - mean_absolute_error: 4.0983\n",
      "Epoch 66/100\n",
      "240/240 [==============================] - 0s 1ms/step - loss: 5.0839 - mean_absolute_error: 4.0822\n",
      "Epoch 67/100\n",
      "240/240 [==============================] - 0s 1ms/step - loss: 5.0956 - mean_absolute_error: 4.0897\n",
      "Epoch 68/100\n",
      "240/240 [==============================] - 0s 1ms/step - loss: 5.0845 - mean_absolute_error: 4.0820\n",
      "Epoch 69/100\n",
      "240/240 [==============================] - 0s 1ms/step - loss: 5.0703 - mean_absolute_error: 4.0747\n",
      "Epoch 70/100\n",
      "240/240 [==============================] - 0s 1ms/step - loss: 5.1063 - mean_absolute_error: 4.0973\n",
      "Epoch 71/100\n",
      "240/240 [==============================] - 0s 1ms/step - loss: 5.1398 - mean_absolute_error: 4.1189\n",
      "Epoch 72/100\n",
      "240/240 [==============================] - 0s 1ms/step - loss: 5.0971 - mean_absolute_error: 4.0906\n",
      "Epoch 73/100\n"
     ]
    },
    {
     "name": "stdout",
     "output_type": "stream",
     "text": [
      "240/240 [==============================] - 0s 2ms/step - loss: 5.1778 - mean_absolute_error: 4.1447\n",
      "Epoch 74/100\n",
      "240/240 [==============================] - 0s 2ms/step - loss: 5.2043 - mean_absolute_error: 4.1641\n",
      "Epoch 75/100\n",
      "240/240 [==============================] - 0s 1ms/step - loss: 5.0823 - mean_absolute_error: 4.0797\n",
      "Epoch 76/100\n",
      "240/240 [==============================] - 0s 1ms/step - loss: 5.0731 - mean_absolute_error: 4.0754\n",
      "Epoch 77/100\n",
      "240/240 [==============================] - 0s 1ms/step - loss: 5.0690 - mean_absolute_error: 4.0733\n",
      "Epoch 78/100\n",
      "240/240 [==============================] - 0s 1ms/step - loss: 5.2182 - mean_absolute_error: 4.1690\n",
      "Epoch 79/100\n",
      "240/240 [==============================] - 0s 1ms/step - loss: 5.1358 - mean_absolute_error: 4.1150\n",
      "Epoch 80/100\n",
      "240/240 [==============================] - 0s 1ms/step - loss: 5.0659 - mean_absolute_error: 4.0706\n",
      "Epoch 81/100\n",
      "240/240 [==============================] - 0s 1ms/step - loss: 5.1887 - mean_absolute_error: 4.1519\n",
      "Epoch 82/100\n",
      "240/240 [==============================] - 0s 1ms/step - loss: 5.0708 - mean_absolute_error: 4.0738\n",
      "Epoch 83/100\n",
      "240/240 [==============================] - 0s 1ms/step - loss: 5.1537 - mean_absolute_error: 4.1303\n",
      "Epoch 84/100\n",
      "240/240 [==============================] - 0s 1ms/step - loss: 5.1375 - mean_absolute_error: 4.1191\n",
      "Epoch 85/100\n",
      "240/240 [==============================] - 0s 1ms/step - loss: 5.0579 - mean_absolute_error: 4.0661\n",
      "Epoch 86/100\n",
      "240/240 [==============================] - 0s 1ms/step - loss: 5.0894 - mean_absolute_error: 4.0858\n",
      "Epoch 87/100\n",
      "240/240 [==============================] - 0s 1ms/step - loss: 5.0879 - mean_absolute_error: 4.0826\n",
      "Epoch 88/100\n",
      "240/240 [==============================] - 0s 1ms/step - loss: 5.0974 - mean_absolute_error: 4.0908\n",
      "Epoch 89/100\n",
      "240/240 [==============================] - 0s 1ms/step - loss: 5.1279 - mean_absolute_error: 4.1130\n",
      "Epoch 90/100\n",
      "240/240 [==============================] - 0s 1ms/step - loss: 5.0925 - mean_absolute_error: 4.0877\n",
      "Epoch 91/100\n",
      "240/240 [==============================] - 0s 1ms/step - loss: 5.1233 - mean_absolute_error: 4.1082\n",
      "Epoch 92/100\n",
      "240/240 [==============================] - 0s 1ms/step - loss: 5.1038 - mean_absolute_error: 4.0951\n",
      "Epoch 93/100\n",
      "240/240 [==============================] - 0s 1ms/step - loss: 5.0792 - mean_absolute_error: 4.0796\n",
      "Epoch 94/100\n",
      "240/240 [==============================] - 0s 1ms/step - loss: 5.1267 - mean_absolute_error: 4.1091\n",
      "Epoch 95/100\n",
      "240/240 [==============================] - 0s 1ms/step - loss: 5.0936 - mean_absolute_error: 4.0891\n",
      "Epoch 96/100\n",
      "240/240 [==============================] - 0s 1ms/step - loss: 5.1265 - mean_absolute_error: 4.1111\n",
      "Epoch 97/100\n",
      "240/240 [==============================] - 0s 1ms/step - loss: 5.0957 - mean_absolute_error: 4.0902\n",
      "Epoch 98/100\n",
      "240/240 [==============================] - 0s 1ms/step - loss: 5.0832 - mean_absolute_error: 4.0844\n",
      "Epoch 99/100\n",
      "240/240 [==============================] - 0s 1ms/step - loss: 5.0902 - mean_absolute_error: 4.0843\n",
      "Epoch 100/100\n",
      "240/240 [==============================] - 0s 1ms/step - loss: 5.1672 - mean_absolute_error: 4.1407\n"
     ]
    },
    {
     "data": {
      "text/plain": [
       "<keras.callbacks.History at 0x17c20d5ad70>"
      ]
     },
     "execution_count": 9,
     "metadata": {},
     "output_type": "execute_result"
    }
   ],
   "source": [
    "ann.fit(X_train, y_train, batch_size=32, epochs=100)\n"
   ]
  },
  {
   "cell_type": "code",
   "execution_count": 10,
   "id": "e42ff3e8",
   "metadata": {},
   "outputs": [
    {
     "name": "stdout",
     "output_type": "stream",
     "text": [
      "60/60 [==============================] - 0s 1ms/step\n"
     ]
    }
   ],
   "source": [
    "y_pred = ann.predict(X_test)\n",
    "np.set_printoptions(precision=1)"
   ]
  },
  {
   "cell_type": "code",
   "execution_count": 11,
   "id": "993f2d33",
   "metadata": {},
   "outputs": [
    {
     "name": "stdout",
     "output_type": "stream",
     "text": [
      "[[468.  469.5]\n",
      " [466.2 466.4]\n",
      " [436.  432.3]\n",
      " ...\n",
      " [456.  454. ]\n",
      " [441.2 451.4]\n",
      " [458.4 462.2]]\n"
     ]
    }
   ],
   "source": [
    "print(np.concatenate((y_pred.reshape(len(y_pred),1), y_test.reshape(len(y_test),1)),1))\n"
   ]
  },
  {
   "cell_type": "code",
   "execution_count": null,
   "id": "2373a1da",
   "metadata": {},
   "outputs": [],
   "source": []
  }
 ],
 "metadata": {
  "kernelspec": {
   "display_name": "Python 3 (ipykernel)",
   "language": "python",
   "name": "python3"
  },
  "language_info": {
   "codemirror_mode": {
    "name": "ipython",
    "version": 3
   },
   "file_extension": ".py",
   "mimetype": "text/x-python",
   "name": "python",
   "nbconvert_exporter": "python",
   "pygments_lexer": "ipython3",
   "version": "3.10.6"
  }
 },
 "nbformat": 4,
 "nbformat_minor": 5
}
