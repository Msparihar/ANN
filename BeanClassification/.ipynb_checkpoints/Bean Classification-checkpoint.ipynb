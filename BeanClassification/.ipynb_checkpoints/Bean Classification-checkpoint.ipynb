{
 "cells": [
  {
   "cell_type": "code",
   "execution_count": 1,
   "id": "a7d219bf",
   "metadata": {},
   "outputs": [],
   "source": [
    "import numpy as np\n",
    "import pandas as pd\n",
    "import seaborn as sns\n",
    "import matplotlib.pyplot as plt\n",
    "\n",
    "from sklearn.preprocessing import LabelEncoder\n",
    "from sklearn.model_selection import train_test_split\n",
    "from sklearn.ensemble import ExtraTreesClassifier\n",
    "from sklearn import preprocessing\n",
    "from sklearn.ensemble import RandomForestClassifier\n",
    "from sklearn.metrics import classification_report,accuracy_score\n",
    "from sklearn.metrics import ConfusionMatrixDisplay\n",
    "from sklearn.model_selection import RandomizedSearchCV\n",
    "\n",
    "import os\n"
   ]
  },
  {
   "cell_type": "code",
   "execution_count": 2,
   "id": "c7a35742",
   "metadata": {},
   "outputs": [],
   "source": [
    "df = pd.read_excel('Dry_Bean_Dataset.xlsx')"
   ]
  },
  {
   "cell_type": "code",
   "execution_count": 3,
   "id": "771cc14d",
   "metadata": {},
   "outputs": [
    {
     "data": {
      "text/html": [
       "<div>\n",
       "<style scoped>\n",
       "    .dataframe tbody tr th:only-of-type {\n",
       "        vertical-align: middle;\n",
       "    }\n",
       "\n",
       "    .dataframe tbody tr th {\n",
       "        vertical-align: top;\n",
       "    }\n",
       "\n",
       "    .dataframe thead th {\n",
       "        text-align: right;\n",
       "    }\n",
       "</style>\n",
       "<table border=\"1\" class=\"dataframe\">\n",
       "  <thead>\n",
       "    <tr style=\"text-align: right;\">\n",
       "      <th></th>\n",
       "      <th>Area</th>\n",
       "      <th>Perimeter</th>\n",
       "      <th>MajorAxisLength</th>\n",
       "      <th>MinorAxisLength</th>\n",
       "      <th>AspectRation</th>\n",
       "      <th>Eccentricity</th>\n",
       "      <th>ConvexArea</th>\n",
       "      <th>EquivDiameter</th>\n",
       "      <th>Extent</th>\n",
       "      <th>Solidity</th>\n",
       "      <th>roundness</th>\n",
       "      <th>Compactness</th>\n",
       "      <th>ShapeFactor1</th>\n",
       "      <th>ShapeFactor2</th>\n",
       "      <th>ShapeFactor3</th>\n",
       "      <th>ShapeFactor4</th>\n",
       "      <th>Class</th>\n",
       "    </tr>\n",
       "  </thead>\n",
       "  <tbody>\n",
       "    <tr>\n",
       "      <th>0</th>\n",
       "      <td>28395</td>\n",
       "      <td>610.291</td>\n",
       "      <td>208.178117</td>\n",
       "      <td>173.888747</td>\n",
       "      <td>1.197191</td>\n",
       "      <td>0.549812</td>\n",
       "      <td>28715</td>\n",
       "      <td>190.141097</td>\n",
       "      <td>0.763923</td>\n",
       "      <td>0.988856</td>\n",
       "      <td>0.958027</td>\n",
       "      <td>0.913358</td>\n",
       "      <td>0.007332</td>\n",
       "      <td>0.003147</td>\n",
       "      <td>0.834222</td>\n",
       "      <td>0.998724</td>\n",
       "      <td>SEKER</td>\n",
       "    </tr>\n",
       "    <tr>\n",
       "      <th>1</th>\n",
       "      <td>28734</td>\n",
       "      <td>638.018</td>\n",
       "      <td>200.524796</td>\n",
       "      <td>182.734419</td>\n",
       "      <td>1.097356</td>\n",
       "      <td>0.411785</td>\n",
       "      <td>29172</td>\n",
       "      <td>191.272750</td>\n",
       "      <td>0.783968</td>\n",
       "      <td>0.984986</td>\n",
       "      <td>0.887034</td>\n",
       "      <td>0.953861</td>\n",
       "      <td>0.006979</td>\n",
       "      <td>0.003564</td>\n",
       "      <td>0.909851</td>\n",
       "      <td>0.998430</td>\n",
       "      <td>SEKER</td>\n",
       "    </tr>\n",
       "    <tr>\n",
       "      <th>2</th>\n",
       "      <td>29380</td>\n",
       "      <td>624.110</td>\n",
       "      <td>212.826130</td>\n",
       "      <td>175.931143</td>\n",
       "      <td>1.209713</td>\n",
       "      <td>0.562727</td>\n",
       "      <td>29690</td>\n",
       "      <td>193.410904</td>\n",
       "      <td>0.778113</td>\n",
       "      <td>0.989559</td>\n",
       "      <td>0.947849</td>\n",
       "      <td>0.908774</td>\n",
       "      <td>0.007244</td>\n",
       "      <td>0.003048</td>\n",
       "      <td>0.825871</td>\n",
       "      <td>0.999066</td>\n",
       "      <td>SEKER</td>\n",
       "    </tr>\n",
       "    <tr>\n",
       "      <th>3</th>\n",
       "      <td>30008</td>\n",
       "      <td>645.884</td>\n",
       "      <td>210.557999</td>\n",
       "      <td>182.516516</td>\n",
       "      <td>1.153638</td>\n",
       "      <td>0.498616</td>\n",
       "      <td>30724</td>\n",
       "      <td>195.467062</td>\n",
       "      <td>0.782681</td>\n",
       "      <td>0.976696</td>\n",
       "      <td>0.903936</td>\n",
       "      <td>0.928329</td>\n",
       "      <td>0.007017</td>\n",
       "      <td>0.003215</td>\n",
       "      <td>0.861794</td>\n",
       "      <td>0.994199</td>\n",
       "      <td>SEKER</td>\n",
       "    </tr>\n",
       "    <tr>\n",
       "      <th>4</th>\n",
       "      <td>30140</td>\n",
       "      <td>620.134</td>\n",
       "      <td>201.847882</td>\n",
       "      <td>190.279279</td>\n",
       "      <td>1.060798</td>\n",
       "      <td>0.333680</td>\n",
       "      <td>30417</td>\n",
       "      <td>195.896503</td>\n",
       "      <td>0.773098</td>\n",
       "      <td>0.990893</td>\n",
       "      <td>0.984877</td>\n",
       "      <td>0.970516</td>\n",
       "      <td>0.006697</td>\n",
       "      <td>0.003665</td>\n",
       "      <td>0.941900</td>\n",
       "      <td>0.999166</td>\n",
       "      <td>SEKER</td>\n",
       "    </tr>\n",
       "  </tbody>\n",
       "</table>\n",
       "</div>"
      ],
      "text/plain": [
       "    Area  Perimeter  MajorAxisLength  MinorAxisLength  AspectRation  \\\n",
       "0  28395    610.291       208.178117       173.888747      1.197191   \n",
       "1  28734    638.018       200.524796       182.734419      1.097356   \n",
       "2  29380    624.110       212.826130       175.931143      1.209713   \n",
       "3  30008    645.884       210.557999       182.516516      1.153638   \n",
       "4  30140    620.134       201.847882       190.279279      1.060798   \n",
       "\n",
       "   Eccentricity  ConvexArea  EquivDiameter    Extent  Solidity  roundness  \\\n",
       "0      0.549812       28715     190.141097  0.763923  0.988856   0.958027   \n",
       "1      0.411785       29172     191.272750  0.783968  0.984986   0.887034   \n",
       "2      0.562727       29690     193.410904  0.778113  0.989559   0.947849   \n",
       "3      0.498616       30724     195.467062  0.782681  0.976696   0.903936   \n",
       "4      0.333680       30417     195.896503  0.773098  0.990893   0.984877   \n",
       "\n",
       "   Compactness  ShapeFactor1  ShapeFactor2  ShapeFactor3  ShapeFactor4  Class  \n",
       "0     0.913358      0.007332      0.003147      0.834222      0.998724  SEKER  \n",
       "1     0.953861      0.006979      0.003564      0.909851      0.998430  SEKER  \n",
       "2     0.908774      0.007244      0.003048      0.825871      0.999066  SEKER  \n",
       "3     0.928329      0.007017      0.003215      0.861794      0.994199  SEKER  \n",
       "4     0.970516      0.006697      0.003665      0.941900      0.999166  SEKER  "
      ]
     },
     "execution_count": 3,
     "metadata": {},
     "output_type": "execute_result"
    }
   ],
   "source": [
    "df.head()"
   ]
  },
  {
   "cell_type": "code",
   "execution_count": 4,
   "id": "27351e22",
   "metadata": {},
   "outputs": [
    {
     "data": {
      "text/plain": [
       "(13611, 17)"
      ]
     },
     "execution_count": 4,
     "metadata": {},
     "output_type": "execute_result"
    }
   ],
   "source": [
    "df.shape"
   ]
  },
  {
   "cell_type": "code",
   "execution_count": 5,
   "id": "2e9c1be2",
   "metadata": {},
   "outputs": [
    {
     "name": "stdout",
     "output_type": "stream",
     "text": [
      "<class 'pandas.core.frame.DataFrame'>\n",
      "RangeIndex: 13611 entries, 0 to 13610\n",
      "Data columns (total 17 columns):\n",
      " #   Column           Non-Null Count  Dtype  \n",
      "---  ------           --------------  -----  \n",
      " 0   Area             13611 non-null  int64  \n",
      " 1   Perimeter        13611 non-null  float64\n",
      " 2   MajorAxisLength  13611 non-null  float64\n",
      " 3   MinorAxisLength  13611 non-null  float64\n",
      " 4   AspectRation     13611 non-null  float64\n",
      " 5   Eccentricity     13611 non-null  float64\n",
      " 6   ConvexArea       13611 non-null  int64  \n",
      " 7   EquivDiameter    13611 non-null  float64\n",
      " 8   Extent           13611 non-null  float64\n",
      " 9   Solidity         13611 non-null  float64\n",
      " 10  roundness        13611 non-null  float64\n",
      " 11  Compactness      13611 non-null  float64\n",
      " 12  ShapeFactor1     13611 non-null  float64\n",
      " 13  ShapeFactor2     13611 non-null  float64\n",
      " 14  ShapeFactor3     13611 non-null  float64\n",
      " 15  ShapeFactor4     13611 non-null  float64\n",
      " 16  Class            13611 non-null  object \n",
      "dtypes: float64(14), int64(2), object(1)\n",
      "memory usage: 1.8+ MB\n"
     ]
    }
   ],
   "source": [
    "df.info()"
   ]
  },
  {
   "cell_type": "code",
   "execution_count": 6,
   "id": "c4d50843",
   "metadata": {},
   "outputs": [
    {
     "data": {
      "text/plain": [
       "Area               0\n",
       "Perimeter          0\n",
       "MajorAxisLength    0\n",
       "MinorAxisLength    0\n",
       "AspectRation       0\n",
       "Eccentricity       0\n",
       "ConvexArea         0\n",
       "EquivDiameter      0\n",
       "Extent             0\n",
       "Solidity           0\n",
       "roundness          0\n",
       "Compactness        0\n",
       "ShapeFactor1       0\n",
       "ShapeFactor2       0\n",
       "ShapeFactor3       0\n",
       "ShapeFactor4       0\n",
       "Class              0\n",
       "dtype: int64"
      ]
     },
     "execution_count": 6,
     "metadata": {},
     "output_type": "execute_result"
    }
   ],
   "source": [
    "df.isnull().sum()"
   ]
  },
  {
   "cell_type": "code",
   "execution_count": 7,
   "id": "4bc716ca",
   "metadata": {},
   "outputs": [
    {
     "data": {
      "text/plain": [
       "array(['SEKER', 'BARBUNYA', 'BOMBAY', 'CALI', 'HOROZ', 'SIRA', 'DERMASON'],\n",
       "      dtype=object)"
      ]
     },
     "execution_count": 7,
     "metadata": {},
     "output_type": "execute_result"
    }
   ],
   "source": [
    "df['Class'].unique()"
   ]
  },
  {
   "cell_type": "code",
   "execution_count": 8,
   "id": "adc0c16b",
   "metadata": {},
   "outputs": [
    {
     "data": {
      "text/plain": [
       "DERMASON    3546\n",
       "SIRA        2636\n",
       "SEKER       2027\n",
       "HOROZ       1928\n",
       "CALI        1630\n",
       "BARBUNYA    1322\n",
       "BOMBAY       522\n",
       "Name: Class, dtype: int64"
      ]
     },
     "execution_count": 8,
     "metadata": {},
     "output_type": "execute_result"
    }
   ],
   "source": [
    "df['Class'].value_counts()"
   ]
  },
  {
   "cell_type": "code",
   "execution_count": 9,
   "id": "4269ae3a",
   "metadata": {},
   "outputs": [
    {
     "data": {
      "image/png": "[encoded data removed]",
      "text/plain": [
       "<Figure size 1200x700 with 1 Axes>"
      ]
     },
     "metadata": {},
     "output_type": "display_data"
    }
   ],
   "source": [
    "plt.figure(figsize=(12,7))\n",
    "sns.countplot(x='Class', data=df)\n",
    "plt.show()"
   ]
  },
  {
   "cell_type": "markdown",
   "id": "6ca2247a",
   "metadata": {},
   "source": [
    "## Label Encoding"
   ]
  },
  {
   "cell_type": "code",
   "execution_count": 10,
   "id": "f1625a20",
   "metadata": {},
   "outputs": [
    {
     "data": {
      "text/html": [
       "<div>\n",
       "<style scoped>\n",
       "    .dataframe tbody tr th:only-of-type {\n",
       "        vertical-align: middle;\n",
       "    }\n",
       "\n",
       "    .dataframe tbody tr th {\n",
       "        vertical-align: top;\n",
       "    }\n",
       "\n",
       "    .dataframe thead th {\n",
       "        text-align: right;\n",
       "    }\n",
       "</style>\n",
       "<table border=\"1\" class=\"dataframe\">\n",
       "  <thead>\n",
       "    <tr style=\"text-align: right;\">\n",
       "      <th></th>\n",
       "      <th>Area</th>\n",
       "      <th>Perimeter</th>\n",
       "      <th>MajorAxisLength</th>\n",
       "      <th>MinorAxisLength</th>\n",
       "      <th>AspectRation</th>\n",
       "      <th>Eccentricity</th>\n",
       "      <th>ConvexArea</th>\n",
       "      <th>EquivDiameter</th>\n",
       "      <th>Extent</th>\n",
       "      <th>Solidity</th>\n",
       "      <th>roundness</th>\n",
       "      <th>Compactness</th>\n",
       "      <th>ShapeFactor1</th>\n",
       "      <th>ShapeFactor2</th>\n",
       "      <th>ShapeFactor3</th>\n",
       "      <th>ShapeFactor4</th>\n",
       "      <th>Class</th>\n",
       "    </tr>\n",
       "  </thead>\n",
       "  <tbody>\n",
       "    <tr>\n",
       "      <th>0</th>\n",
       "      <td>28395</td>\n",
       "      <td>610.291</td>\n",
       "      <td>208.178117</td>\n",
       "      <td>173.888747</td>\n",
       "      <td>1.197191</td>\n",
       "      <td>0.549812</td>\n",
       "      <td>28715</td>\n",
       "      <td>190.141097</td>\n",
       "      <td>0.763923</td>\n",
       "      <td>0.988856</td>\n",
       "      <td>0.958027</td>\n",
       "      <td>0.913358</td>\n",
       "      <td>0.007332</td>\n",
       "      <td>0.003147</td>\n",
       "      <td>0.834222</td>\n",
       "      <td>0.998724</td>\n",
       "      <td>5</td>\n",
       "    </tr>\n",
       "    <tr>\n",
       "      <th>1</th>\n",
       "      <td>28734</td>\n",
       "      <td>638.018</td>\n",
       "      <td>200.524796</td>\n",
       "      <td>182.734419</td>\n",
       "      <td>1.097356</td>\n",
       "      <td>0.411785</td>\n",
       "      <td>29172</td>\n",
       "      <td>191.272750</td>\n",
       "      <td>0.783968</td>\n",
       "      <td>0.984986</td>\n",
       "      <td>0.887034</td>\n",
       "      <td>0.953861</td>\n",
       "      <td>0.006979</td>\n",
       "      <td>0.003564</td>\n",
       "      <td>0.909851</td>\n",
       "      <td>0.998430</td>\n",
       "      <td>5</td>\n",
       "    </tr>\n",
       "    <tr>\n",
       "      <th>2</th>\n",
       "      <td>29380</td>\n",
       "      <td>624.110</td>\n",
       "      <td>212.826130</td>\n",
       "      <td>175.931143</td>\n",
       "      <td>1.209713</td>\n",
       "      <td>0.562727</td>\n",
       "      <td>29690</td>\n",
       "      <td>193.410904</td>\n",
       "      <td>0.778113</td>\n",
       "      <td>0.989559</td>\n",
       "      <td>0.947849</td>\n",
       "      <td>0.908774</td>\n",
       "      <td>0.007244</td>\n",
       "      <td>0.003048</td>\n",
       "      <td>0.825871</td>\n",
       "      <td>0.999066</td>\n",
       "      <td>5</td>\n",
       "    </tr>\n",
       "    <tr>\n",
       "      <th>3</th>\n",
       "      <td>30008</td>\n",
       "      <td>645.884</td>\n",
       "      <td>210.557999</td>\n",
       "      <td>182.516516</td>\n",
       "      <td>1.153638</td>\n",
       "      <td>0.498616</td>\n",
       "      <td>30724</td>\n",
       "      <td>195.467062</td>\n",
       "      <td>0.782681</td>\n",
       "      <td>0.976696</td>\n",
       "      <td>0.903936</td>\n",
       "      <td>0.928329</td>\n",
       "      <td>0.007017</td>\n",
       "      <td>0.003215</td>\n",
       "      <td>0.861794</td>\n",
       "      <td>0.994199</td>\n",
       "      <td>5</td>\n",
       "    </tr>\n",
       "    <tr>\n",
       "      <th>4</th>\n",
       "      <td>30140</td>\n",
       "      <td>620.134</td>\n",
       "      <td>201.847882</td>\n",
       "      <td>190.279279</td>\n",
       "      <td>1.060798</td>\n",
       "      <td>0.333680</td>\n",
       "      <td>30417</td>\n",
       "      <td>195.896503</td>\n",
       "      <td>0.773098</td>\n",
       "      <td>0.990893</td>\n",
       "      <td>0.984877</td>\n",
       "      <td>0.970516</td>\n",
       "      <td>0.006697</td>\n",
       "      <td>0.003665</td>\n",
       "      <td>0.941900</td>\n",
       "      <td>0.999166</td>\n",
       "      <td>5</td>\n",
       "    </tr>\n",
       "    <tr>\n",
       "      <th>5</th>\n",
       "      <td>30279</td>\n",
       "      <td>634.927</td>\n",
       "      <td>212.560556</td>\n",
       "      <td>181.510182</td>\n",
       "      <td>1.171067</td>\n",
       "      <td>0.520401</td>\n",
       "      <td>30600</td>\n",
       "      <td>196.347702</td>\n",
       "      <td>0.775688</td>\n",
       "      <td>0.989510</td>\n",
       "      <td>0.943852</td>\n",
       "      <td>0.923726</td>\n",
       "      <td>0.007020</td>\n",
       "      <td>0.003153</td>\n",
       "      <td>0.853270</td>\n",
       "      <td>0.999236</td>\n",
       "      <td>5</td>\n",
       "    </tr>\n",
       "    <tr>\n",
       "      <th>6</th>\n",
       "      <td>30477</td>\n",
       "      <td>670.033</td>\n",
       "      <td>211.050155</td>\n",
       "      <td>184.039050</td>\n",
       "      <td>1.146768</td>\n",
       "      <td>0.489478</td>\n",
       "      <td>30970</td>\n",
       "      <td>196.988633</td>\n",
       "      <td>0.762402</td>\n",
       "      <td>0.984081</td>\n",
       "      <td>0.853080</td>\n",
       "      <td>0.933374</td>\n",
       "      <td>0.006925</td>\n",
       "      <td>0.003242</td>\n",
       "      <td>0.871186</td>\n",
       "      <td>0.999049</td>\n",
       "      <td>5</td>\n",
       "    </tr>\n",
       "    <tr>\n",
       "      <th>7</th>\n",
       "      <td>30519</td>\n",
       "      <td>629.727</td>\n",
       "      <td>212.996755</td>\n",
       "      <td>182.737204</td>\n",
       "      <td>1.165591</td>\n",
       "      <td>0.513760</td>\n",
       "      <td>30847</td>\n",
       "      <td>197.124320</td>\n",
       "      <td>0.770682</td>\n",
       "      <td>0.989367</td>\n",
       "      <td>0.967109</td>\n",
       "      <td>0.925480</td>\n",
       "      <td>0.006979</td>\n",
       "      <td>0.003158</td>\n",
       "      <td>0.856514</td>\n",
       "      <td>0.998345</td>\n",
       "      <td>5</td>\n",
       "    </tr>\n",
       "    <tr>\n",
       "      <th>8</th>\n",
       "      <td>30685</td>\n",
       "      <td>635.681</td>\n",
       "      <td>213.534145</td>\n",
       "      <td>183.157146</td>\n",
       "      <td>1.165852</td>\n",
       "      <td>0.514081</td>\n",
       "      <td>31044</td>\n",
       "      <td>197.659696</td>\n",
       "      <td>0.771561</td>\n",
       "      <td>0.988436</td>\n",
       "      <td>0.954240</td>\n",
       "      <td>0.925658</td>\n",
       "      <td>0.006959</td>\n",
       "      <td>0.003152</td>\n",
       "      <td>0.856844</td>\n",
       "      <td>0.998953</td>\n",
       "      <td>5</td>\n",
       "    </tr>\n",
       "    <tr>\n",
       "      <th>9</th>\n",
       "      <td>30834</td>\n",
       "      <td>631.934</td>\n",
       "      <td>217.227813</td>\n",
       "      <td>180.897469</td>\n",
       "      <td>1.200834</td>\n",
       "      <td>0.553642</td>\n",
       "      <td>31120</td>\n",
       "      <td>198.139012</td>\n",
       "      <td>0.783683</td>\n",
       "      <td>0.990810</td>\n",
       "      <td>0.970278</td>\n",
       "      <td>0.912125</td>\n",
       "      <td>0.007045</td>\n",
       "      <td>0.003008</td>\n",
       "      <td>0.831973</td>\n",
       "      <td>0.999061</td>\n",
       "      <td>5</td>\n",
       "    </tr>\n",
       "  </tbody>\n",
       "</table>\n",
       "</div>"
      ],
      "text/plain": [
       "    Area  Perimeter  MajorAxisLength  MinorAxisLength  AspectRation  \\\n",
       "0  28395    610.291       208.178117       173.888747      1.197191   \n",
       "1  28734    638.018       200.524796       182.734419      1.097356   \n",
       "2  29380    624.110       212.826130       175.931143      1.209713   \n",
       "3  30008    645.884       210.557999       182.516516      1.153638   \n",
       "4  30140    620.134       201.847882       190.279279      1.060798   \n",
       "5  30279    634.927       212.560556       181.510182      1.171067   \n",
       "6  30477    670.033       211.050155       184.039050      1.146768   \n",
       "7  30519    629.727       212.996755       182.737204      1.165591   \n",
       "8  30685    635.681       213.534145       183.157146      1.165852   \n",
       "9  30834    631.934       217.227813       180.897469      1.200834   \n",
       "\n",
       "   Eccentricity  ConvexArea  EquivDiameter    Extent  Solidity  roundness  \\\n",
       "0      0.549812       28715     190.141097  0.763923  0.988856   0.958027   \n",
       "1      0.411785       29172     191.272750  0.783968  0.984986   0.887034   \n",
       "2      0.562727       29690     193.410904  0.778113  0.989559   0.947849   \n",
       "3      0.498616       30724     195.467062  0.782681  0.976696   0.903936   \n",
       "4      0.333680       30417     195.896503  0.773098  0.990893   0.984877   \n",
       "5      0.520401       30600     196.347702  0.775688  0.989510   0.943852   \n",
       "6      0.489478       30970     196.988633  0.762402  0.984081   0.853080   \n",
       "7      0.513760       30847     197.124320  0.770682  0.989367   0.967109   \n",
       "8      0.514081       31044     197.659696  0.771561  0.988436   0.954240   \n",
       "9      0.553642       31120     198.139012  0.783683  0.990810   0.970278   \n",
       "\n",
       "   Compactness  ShapeFactor1  ShapeFactor2  ShapeFactor3  ShapeFactor4  Class  \n",
       "0     0.913358      0.007332      0.003147      0.834222      0.998724      5  \n",
       "1     0.953861      0.006979      0.003564      0.909851      0.998430      5  \n",
       "2     0.908774      0.007244      0.003048      0.825871      0.999066      5  \n",
       "3     0.928329      0.007017      0.003215      0.861794      0.994199      5  \n",
       "4     0.970516      0.006697      0.003665      0.941900      0.999166      5  \n",
       "5     0.923726      0.007020      0.003153      0.853270      0.999236      5  \n",
       "6     0.933374      0.006925      0.003242      0.871186      0.999049      5  \n",
       "7     0.925480      0.006979      0.003158      0.856514      0.998345      5  \n",
       "8     0.925658      0.006959      0.003152      0.856844      0.998953      5  \n",
       "9     0.912125      0.007045      0.003008      0.831973      0.999061      5  "
      ]
     },
     "execution_count": 10,
     "metadata": {},
     "output_type": "execute_result"
    }
   ],
   "source": [
    "labelencoder = LabelEncoder()\n",
    "df[\"Class\"] = labelencoder.fit_transform(df['Class'])\n",
    "\n",
    "df.head(10)"
   ]
  },
  {
   "cell_type": "code",
   "execution_count": 11,
   "id": "40157ab5",
   "metadata": {},
   "outputs": [],
   "source": [
    "X = df.drop(columns='Class')\n",
    "y = df['Class']"
   ]
  },
  {
   "cell_type": "code",
   "execution_count": 12,
   "id": "21417ceb",
   "metadata": {},
   "outputs": [],
   "source": [
    "X_train, X_test, y_train, y_test = train_test_split(X, y, train_size=0.8, random_state=42)"
   ]
  },
  {
   "cell_type": "markdown",
   "id": "94be18f8",
   "metadata": {},
   "source": [
    "## Standarizing Features"
   ]
  },
  {
   "cell_type": "code",
   "execution_count": 13,
   "id": "9f05e83a",
   "metadata": {},
   "outputs": [],
   "source": [
    "scaler_X = preprocessing.StandardScaler().fit(X_train)\n",
    "X_train_scaled = scaler_X.transform(X_train)\n",
    "X_test_scaled = scaler_X.transform(X_test)"
   ]
  },
  {
   "cell_type": "code",
   "execution_count": 43,
   "id": "a7879a81",
   "metadata": {},
   "outputs": [
    {
     "data": {
      "text/plain": [
       "array([[-0.36296   , -0.52964611, -0.69695652, ...,  1.15089146,\n",
       "         1.54182176,  0.98769508],\n",
       "       [ 0.52991536,  1.10200072,  0.59473961, ..., -0.63053967,\n",
       "        -0.1045282 , -2.01294548],\n",
       "       [-0.517459  , -0.68228083, -0.83494449, ...,  1.26116851,\n",
       "         1.38748903,  0.7233148 ],\n",
       "       ...,\n",
       "       [-0.84293047, -1.08464304, -1.08258587, ...,  1.17729546,\n",
       "         0.56974941,  0.65879757],\n",
       "       [ 0.75175567,  0.90593248,  0.92978172, ..., -0.91135506,\n",
       "        -0.46871177, -0.54920564],\n",
       "       [-0.45976742, -0.52550511, -0.48421007, ...,  0.19247733,\n",
       "         0.05901381,  0.41680288]])"
      ]
     },
     "execution_count": 43,
     "metadata": {},
     "output_type": "execute_result"
    }
   ],
   "source": [
    "X_test_scaled"
   ]
  },
  {
   "cell_type": "markdown",
   "id": "ad4785ce",
   "metadata": {},
   "source": [
    "## Model Training"
   ]
  },
  {
   "cell_type": "code",
   "execution_count": 14,
   "id": "eb85817f",
   "metadata": {},
   "outputs": [],
   "source": [
    "forest = RandomForestClassifier(n_estimators=10, \n",
    "                                random_state=42, \n",
    "                                max_depth=8, \n",
    "                                max_features=5, \n",
    "                                min_samples_leaf=5)\n",
    "\n",
    "forest.fit(X_train_scaled, y_train)\n",
    "y_pred = forest.predict(X_test_scaled)"
   ]
  },
  {
   "cell_type": "code",
   "execution_count": 15,
   "id": "de7976e9",
   "metadata": {},
   "outputs": [
    {
     "name": "stdout",
     "output_type": "stream",
     "text": [
      "Accuracy: 0.91737\n"
     ]
    }
   ],
   "source": [
    "from sklearn.metrics import classification_report,accuracy_score\n",
    "print('Accuracy: %.5f' % accuracy_score(y_test, y_pred))"
   ]
  },
  {
   "cell_type": "code",
   "execution_count": 16,
   "id": "36fb14cd",
   "metadata": {},
   "outputs": [
    {
     "name": "stdout",
     "output_type": "stream",
     "text": [
      "              precision    recall  f1-score   support\n",
      "\n",
      "    BARBUNYA       0.93      0.85      0.89       261\n",
      "      BOMBAY       1.00      1.00      1.00       117\n",
      "        CALI       0.89      0.94      0.92       317\n",
      "    DERMASON       0.90      0.92      0.91       671\n",
      "       HOROZ       0.97      0.95      0.96       408\n",
      "       SEKER       0.97      0.93      0.95       413\n",
      "        SIRA       0.86      0.89      0.87       536\n",
      "\n",
      "    accuracy                           0.92      2723\n",
      "   macro avg       0.93      0.92      0.93      2723\n",
      "weighted avg       0.92      0.92      0.92      2723\n",
      "\n"
     ]
    }
   ],
   "source": [
    "print(classification_report(y_test, y_pred, target_names=np.unique(labelencoder.inverse_transform(y))))"
   ]
  },
  {
   "cell_type": "code",
   "execution_count": 17,
   "id": "2d7a5e08",
   "metadata": {},
   "outputs": [
    {
     "name": "stderr",
     "output_type": "stream",
     "text": [
      "WARNING:absl:`lr` is deprecated, please use `learning_rate` instead, or use the legacy optimizer, e.g.,tf.keras.optimizers.legacy.Adam.\n"
     ]
    },
    {
     "name": "stdout",
     "output_type": "stream",
     "text": [
      "Epoch 1/100\n",
      "273/273 [==============================] - 2s 3ms/step - loss: 0.6255 - sparse_categorical_accuracy: 0.7755 - val_loss: 0.2384 - val_sparse_categorical_accuracy: 0.9160\n",
      "Epoch 2/100\n",
      "273/273 [==============================] - 1s 2ms/step - loss: 0.2734 - sparse_categorical_accuracy: 0.9044 - val_loss: 0.2115 - val_sparse_categorical_accuracy: 0.9270\n",
      "Epoch 3/100\n",
      "273/273 [==============================] - 1s 2ms/step - loss: 0.2534 - sparse_categorical_accuracy: 0.9091 - val_loss: 0.2109 - val_sparse_categorical_accuracy: 0.9298\n",
      "Epoch 4/100\n",
      "273/273 [==============================] - 1s 2ms/step - loss: 0.2336 - sparse_categorical_accuracy: 0.9157 - val_loss: 0.2123 - val_sparse_categorical_accuracy: 0.9270\n",
      "Epoch 5/100\n",
      "273/273 [==============================] - 1s 2ms/step - loss: 0.2257 - sparse_categorical_accuracy: 0.9179 - val_loss: 0.2088 - val_sparse_categorical_accuracy: 0.9270\n",
      "Epoch 6/100\n",
      "273/273 [==============================] - 1s 2ms/step - loss: 0.2218 - sparse_categorical_accuracy: 0.9195 - val_loss: 0.2122 - val_sparse_categorical_accuracy: 0.9298\n",
      "Epoch 7/100\n",
      "273/273 [==============================] - 1s 2ms/step - loss: 0.2190 - sparse_categorical_accuracy: 0.9209 - val_loss: 0.2067 - val_sparse_categorical_accuracy: 0.9288\n",
      "Epoch 8/100\n",
      "273/273 [==============================] - 1s 2ms/step - loss: 0.2212 - sparse_categorical_accuracy: 0.9196 - val_loss: 0.2071 - val_sparse_categorical_accuracy: 0.9288\n",
      "Epoch 9/100\n",
      "273/273 [==============================] - 1s 2ms/step - loss: 0.2195 - sparse_categorical_accuracy: 0.9212 - val_loss: 0.2101 - val_sparse_categorical_accuracy: 0.9256\n",
      "Epoch 10/100\n",
      "273/273 [==============================] - 1s 2ms/step - loss: 0.2092 - sparse_categorical_accuracy: 0.9247 - val_loss: 0.2080 - val_sparse_categorical_accuracy: 0.9284\n",
      "Epoch 11/100\n",
      "273/273 [==============================] - 1s 2ms/step - loss: 0.2086 - sparse_categorical_accuracy: 0.9239 - val_loss: 0.2082 - val_sparse_categorical_accuracy: 0.9261\n",
      "Epoch 12/100\n",
      "273/273 [==============================] - 1s 2ms/step - loss: 0.2104 - sparse_categorical_accuracy: 0.9237 - val_loss: 0.2013 - val_sparse_categorical_accuracy: 0.9325\n",
      "Epoch 13/100\n",
      "273/273 [==============================] - 1s 2ms/step - loss: 0.2071 - sparse_categorical_accuracy: 0.9230 - val_loss: 0.2111 - val_sparse_categorical_accuracy: 0.9265\n",
      "Epoch 14/100\n",
      "273/273 [==============================] - 0s 2ms/step - loss: 0.2052 - sparse_categorical_accuracy: 0.9241 - val_loss: 0.2019 - val_sparse_categorical_accuracy: 0.9275\n",
      "Epoch 15/100\n",
      "273/273 [==============================] - 0s 2ms/step - loss: 0.2057 - sparse_categorical_accuracy: 0.9255 - val_loss: 0.2017 - val_sparse_categorical_accuracy: 0.9298\n",
      "Epoch 16/100\n",
      "273/273 [==============================] - 0s 2ms/step - loss: 0.1997 - sparse_categorical_accuracy: 0.9243 - val_loss: 0.2026 - val_sparse_categorical_accuracy: 0.9330\n",
      "Epoch 17/100\n",
      "273/273 [==============================] - 0s 2ms/step - loss: 0.1973 - sparse_categorical_accuracy: 0.9256 - val_loss: 0.2150 - val_sparse_categorical_accuracy: 0.9229\n",
      "Epoch 18/100\n",
      "273/273 [==============================] - 0s 2ms/step - loss: 0.1987 - sparse_categorical_accuracy: 0.9274 - val_loss: 0.2053 - val_sparse_categorical_accuracy: 0.9302\n",
      "Epoch 19/100\n",
      "273/273 [==============================] - 0s 2ms/step - loss: 0.1933 - sparse_categorical_accuracy: 0.9300 - val_loss: 0.2080 - val_sparse_categorical_accuracy: 0.9307\n",
      "Epoch 20/100\n",
      "273/273 [==============================] - 1s 2ms/step - loss: 0.1964 - sparse_categorical_accuracy: 0.9257 - val_loss: 0.2052 - val_sparse_categorical_accuracy: 0.9279\n",
      "Epoch 21/100\n",
      "273/273 [==============================] - 1s 2ms/step - loss: 0.1981 - sparse_categorical_accuracy: 0.9262 - val_loss: 0.1975 - val_sparse_categorical_accuracy: 0.9362\n",
      "Epoch 22/100\n",
      "273/273 [==============================] - 1s 2ms/step - loss: 0.1957 - sparse_categorical_accuracy: 0.9268 - val_loss: 0.2028 - val_sparse_categorical_accuracy: 0.9311\n",
      "Epoch 23/100\n",
      "273/273 [==============================] - 1s 2ms/step - loss: 0.1954 - sparse_categorical_accuracy: 0.9279 - val_loss: 0.2009 - val_sparse_categorical_accuracy: 0.9325\n",
      "Epoch 24/100\n",
      "273/273 [==============================] - 1s 2ms/step - loss: 0.1975 - sparse_categorical_accuracy: 0.9269 - val_loss: 0.2020 - val_sparse_categorical_accuracy: 0.9307\n",
      "Epoch 25/100\n",
      "273/273 [==============================] - 1s 2ms/step - loss: 0.1907 - sparse_categorical_accuracy: 0.9286 - val_loss: 0.2052 - val_sparse_categorical_accuracy: 0.9307\n",
      "Epoch 26/100\n",
      "273/273 [==============================] - 1s 2ms/step - loss: 0.1922 - sparse_categorical_accuracy: 0.9295 - val_loss: 0.2020 - val_sparse_categorical_accuracy: 0.9288\n",
      "Epoch 27/100\n",
      "273/273 [==============================] - 1s 2ms/step - loss: 0.1876 - sparse_categorical_accuracy: 0.9295 - val_loss: 0.1973 - val_sparse_categorical_accuracy: 0.9307\n",
      "Epoch 28/100\n",
      "273/273 [==============================] - 1s 2ms/step - loss: 0.1899 - sparse_categorical_accuracy: 0.9285 - val_loss: 0.2037 - val_sparse_categorical_accuracy: 0.9316\n",
      "Epoch 29/100\n",
      "273/273 [==============================] - 1s 2ms/step - loss: 0.1856 - sparse_categorical_accuracy: 0.9333 - val_loss: 0.2050 - val_sparse_categorical_accuracy: 0.9320\n",
      "Epoch 30/100\n",
      "273/273 [==============================] - 1s 2ms/step - loss: 0.1914 - sparse_categorical_accuracy: 0.9287 - val_loss: 0.2024 - val_sparse_categorical_accuracy: 0.9330\n",
      "Epoch 31/100\n",
      "273/273 [==============================] - 1s 2ms/step - loss: 0.1908 - sparse_categorical_accuracy: 0.9294 - val_loss: 0.2120 - val_sparse_categorical_accuracy: 0.9270\n",
      "Epoch 32/100\n",
      "273/273 [==============================] - 1s 2ms/step - loss: 0.1875 - sparse_categorical_accuracy: 0.9290 - val_loss: 0.1995 - val_sparse_categorical_accuracy: 0.9339\n",
      "Epoch 33/100\n",
      "273/273 [==============================] - 1s 2ms/step - loss: 0.1905 - sparse_categorical_accuracy: 0.9280 - val_loss: 0.2005 - val_sparse_categorical_accuracy: 0.9320\n",
      "Epoch 34/100\n",
      "273/273 [==============================] - 1s 2ms/step - loss: 0.1885 - sparse_categorical_accuracy: 0.9289 - val_loss: 0.2081 - val_sparse_categorical_accuracy: 0.9320\n",
      "Epoch 35/100\n",
      "273/273 [==============================] - 1s 2ms/step - loss: 0.1864 - sparse_categorical_accuracy: 0.9297 - val_loss: 0.2012 - val_sparse_categorical_accuracy: 0.9320\n",
      "Epoch 36/100\n",
      "273/273 [==============================] - 1s 2ms/step - loss: 0.1877 - sparse_categorical_accuracy: 0.9294 - val_loss: 0.2029 - val_sparse_categorical_accuracy: 0.9343\n",
      "Epoch 37/100\n",
      "273/273 [==============================] - 1s 2ms/step - loss: 0.1886 - sparse_categorical_accuracy: 0.9311 - val_loss: 0.2034 - val_sparse_categorical_accuracy: 0.9288\n",
      "Epoch 38/100\n",
      "273/273 [==============================] - 1s 2ms/step - loss: 0.1800 - sparse_categorical_accuracy: 0.9318 - val_loss: 0.2039 - val_sparse_categorical_accuracy: 0.9275\n",
      "Epoch 39/100\n",
      "273/273 [==============================] - 1s 2ms/step - loss: 0.1832 - sparse_categorical_accuracy: 0.9287 - val_loss: 0.2031 - val_sparse_categorical_accuracy: 0.9334\n",
      "Epoch 40/100\n",
      "273/273 [==============================] - 0s 2ms/step - loss: 0.1840 - sparse_categorical_accuracy: 0.9309 - val_loss: 0.2021 - val_sparse_categorical_accuracy: 0.9357\n",
      "Epoch 41/100\n",
      "273/273 [==============================] - 0s 2ms/step - loss: 0.1818 - sparse_categorical_accuracy: 0.9326 - val_loss: 0.1939 - val_sparse_categorical_accuracy: 0.9376\n",
      "Epoch 42/100\n",
      "273/273 [==============================] - 0s 2ms/step - loss: 0.1841 - sparse_categorical_accuracy: 0.9281 - val_loss: 0.1974 - val_sparse_categorical_accuracy: 0.9362\n",
      "Epoch 43/100\n",
      "273/273 [==============================] - 0s 2ms/step - loss: 0.1827 - sparse_categorical_accuracy: 0.9321 - val_loss: 0.2106 - val_sparse_categorical_accuracy: 0.9311\n",
      "Epoch 44/100\n",
      "273/273 [==============================] - 0s 2ms/step - loss: 0.1806 - sparse_categorical_accuracy: 0.9334 - val_loss: 0.2230 - val_sparse_categorical_accuracy: 0.9242\n",
      "Epoch 45/100\n",
      "273/273 [==============================] - 0s 2ms/step - loss: 0.1816 - sparse_categorical_accuracy: 0.9318 - val_loss: 0.2028 - val_sparse_categorical_accuracy: 0.9307\n",
      "Epoch 46/100\n"
     ]
    },
    {
     "name": "stdout",
     "output_type": "stream",
     "text": [
      "273/273 [==============================] - 1s 2ms/step - loss: 0.1773 - sparse_categorical_accuracy: 0.9324 - val_loss: 0.2050 - val_sparse_categorical_accuracy: 0.9293\n",
      "Epoch 47/100\n",
      "273/273 [==============================] - 1s 2ms/step - loss: 0.1810 - sparse_categorical_accuracy: 0.9308 - val_loss: 0.2070 - val_sparse_categorical_accuracy: 0.9316\n",
      "Epoch 48/100\n",
      "273/273 [==============================] - 1s 2ms/step - loss: 0.1778 - sparse_categorical_accuracy: 0.9308 - val_loss: 0.2022 - val_sparse_categorical_accuracy: 0.9302\n",
      "Epoch 49/100\n",
      "273/273 [==============================] - 1s 2ms/step - loss: 0.1789 - sparse_categorical_accuracy: 0.9302 - val_loss: 0.2009 - val_sparse_categorical_accuracy: 0.9334\n",
      "Epoch 50/100\n",
      "273/273 [==============================] - 1s 2ms/step - loss: 0.1826 - sparse_categorical_accuracy: 0.9313 - val_loss: 0.2133 - val_sparse_categorical_accuracy: 0.9307\n",
      "Epoch 51/100\n",
      "273/273 [==============================] - 1s 2ms/step - loss: 0.1759 - sparse_categorical_accuracy: 0.9346 - val_loss: 0.1988 - val_sparse_categorical_accuracy: 0.9348\n",
      "Epoch 52/100\n",
      "273/273 [==============================] - 1s 2ms/step - loss: 0.1769 - sparse_categorical_accuracy: 0.9323 - val_loss: 0.2092 - val_sparse_categorical_accuracy: 0.9311\n",
      "Epoch 53/100\n",
      "273/273 [==============================] - 1s 2ms/step - loss: 0.1786 - sparse_categorical_accuracy: 0.9321 - val_loss: 0.1978 - val_sparse_categorical_accuracy: 0.9316\n",
      "Epoch 54/100\n",
      "273/273 [==============================] - 1s 2ms/step - loss: 0.1759 - sparse_categorical_accuracy: 0.9319 - val_loss: 0.2118 - val_sparse_categorical_accuracy: 0.9320\n",
      "Epoch 55/100\n",
      "273/273 [==============================] - 1s 2ms/step - loss: 0.1757 - sparse_categorical_accuracy: 0.9342 - val_loss: 0.2137 - val_sparse_categorical_accuracy: 0.9343\n",
      "Epoch 56/100\n",
      "273/273 [==============================] - 1s 2ms/step - loss: 0.1774 - sparse_categorical_accuracy: 0.9330 - val_loss: 0.2049 - val_sparse_categorical_accuracy: 0.9316\n",
      "Epoch 57/100\n",
      "273/273 [==============================] - 1s 2ms/step - loss: 0.1742 - sparse_categorical_accuracy: 0.9330 - val_loss: 0.1993 - val_sparse_categorical_accuracy: 0.9334\n",
      "Epoch 58/100\n",
      "273/273 [==============================] - 1s 2ms/step - loss: 0.1763 - sparse_categorical_accuracy: 0.9318 - val_loss: 0.2113 - val_sparse_categorical_accuracy: 0.9330\n",
      "Epoch 59/100\n",
      "273/273 [==============================] - 1s 2ms/step - loss: 0.1760 - sparse_categorical_accuracy: 0.9342 - val_loss: 0.2038 - val_sparse_categorical_accuracy: 0.9348\n",
      "Epoch 60/100\n",
      "273/273 [==============================] - 1s 2ms/step - loss: 0.1745 - sparse_categorical_accuracy: 0.9362 - val_loss: 0.2033 - val_sparse_categorical_accuracy: 0.9320\n",
      "Epoch 61/100\n",
      "273/273 [==============================] - 1s 3ms/step - loss: 0.1776 - sparse_categorical_accuracy: 0.9333 - val_loss: 0.2013 - val_sparse_categorical_accuracy: 0.9339\n",
      "Epoch 62/100\n",
      "273/273 [==============================] - 1s 2ms/step - loss: 0.1720 - sparse_categorical_accuracy: 0.9340 - val_loss: 0.2021 - val_sparse_categorical_accuracy: 0.9320\n",
      "Epoch 63/100\n",
      "273/273 [==============================] - 1s 2ms/step - loss: 0.1726 - sparse_categorical_accuracy: 0.9342 - val_loss: 0.2034 - val_sparse_categorical_accuracy: 0.9325\n",
      "Epoch 64/100\n",
      "273/273 [==============================] - 1s 2ms/step - loss: 0.1788 - sparse_categorical_accuracy: 0.9302 - val_loss: 0.1997 - val_sparse_categorical_accuracy: 0.9371\n",
      "Epoch 65/100\n",
      "273/273 [==============================] - 1s 2ms/step - loss: 0.1788 - sparse_categorical_accuracy: 0.9303 - val_loss: 0.2007 - val_sparse_categorical_accuracy: 0.9343\n",
      "Epoch 66/100\n",
      "273/273 [==============================] - 1s 2ms/step - loss: 0.1761 - sparse_categorical_accuracy: 0.9327 - val_loss: 0.2024 - val_sparse_categorical_accuracy: 0.9330\n",
      "Epoch 67/100\n",
      "273/273 [==============================] - 0s 2ms/step - loss: 0.1709 - sparse_categorical_accuracy: 0.9352 - val_loss: 0.2061 - val_sparse_categorical_accuracy: 0.9307\n",
      "Epoch 68/100\n",
      "273/273 [==============================] - 0s 2ms/step - loss: 0.1692 - sparse_categorical_accuracy: 0.9351 - val_loss: 0.2064 - val_sparse_categorical_accuracy: 0.9348\n",
      "Epoch 69/100\n",
      "273/273 [==============================] - 0s 2ms/step - loss: 0.1680 - sparse_categorical_accuracy: 0.9348 - val_loss: 0.2038 - val_sparse_categorical_accuracy: 0.9343\n",
      "Epoch 70/100\n",
      "273/273 [==============================] - 0s 2ms/step - loss: 0.1713 - sparse_categorical_accuracy: 0.9361 - val_loss: 0.2068 - val_sparse_categorical_accuracy: 0.9343\n",
      "Epoch 71/100\n",
      "273/273 [==============================] - 0s 2ms/step - loss: 0.1674 - sparse_categorical_accuracy: 0.9339 - val_loss: 0.2114 - val_sparse_categorical_accuracy: 0.9362\n",
      "Epoch 72/100\n",
      "273/273 [==============================] - 0s 2ms/step - loss: 0.1711 - sparse_categorical_accuracy: 0.9334 - val_loss: 0.2023 - val_sparse_categorical_accuracy: 0.9320\n",
      "Epoch 73/100\n",
      "273/273 [==============================] - 0s 2ms/step - loss: 0.1698 - sparse_categorical_accuracy: 0.9346 - val_loss: 0.1977 - val_sparse_categorical_accuracy: 0.9371\n",
      "Epoch 74/100\n",
      "273/273 [==============================] - 1s 2ms/step - loss: 0.1716 - sparse_categorical_accuracy: 0.9338 - val_loss: 0.1989 - val_sparse_categorical_accuracy: 0.9293\n",
      "Epoch 75/100\n",
      "273/273 [==============================] - 1s 2ms/step - loss: 0.1758 - sparse_categorical_accuracy: 0.9315 - val_loss: 0.1999 - val_sparse_categorical_accuracy: 0.9325\n",
      "Epoch 76/100\n",
      "273/273 [==============================] - 1s 2ms/step - loss: 0.1670 - sparse_categorical_accuracy: 0.9350 - val_loss: 0.2079 - val_sparse_categorical_accuracy: 0.9343\n",
      "Epoch 77/100\n",
      "273/273 [==============================] - 1s 2ms/step - loss: 0.1684 - sparse_categorical_accuracy: 0.9367 - val_loss: 0.1993 - val_sparse_categorical_accuracy: 0.9353\n",
      "Epoch 78/100\n",
      "273/273 [==============================] - 1s 2ms/step - loss: 0.1714 - sparse_categorical_accuracy: 0.9349 - val_loss: 0.2048 - val_sparse_categorical_accuracy: 0.9330\n",
      "Epoch 79/100\n",
      "273/273 [==============================] - 1s 2ms/step - loss: 0.1699 - sparse_categorical_accuracy: 0.9362 - val_loss: 0.1999 - val_sparse_categorical_accuracy: 0.9330\n",
      "Epoch 80/100\n",
      "273/273 [==============================] - 1s 2ms/step - loss: 0.1695 - sparse_categorical_accuracy: 0.9346 - val_loss: 0.2068 - val_sparse_categorical_accuracy: 0.9339\n",
      "Epoch 81/100\n",
      "273/273 [==============================] - 1s 2ms/step - loss: 0.1650 - sparse_categorical_accuracy: 0.9377 - val_loss: 0.2150 - val_sparse_categorical_accuracy: 0.9288\n",
      "Epoch 82/100\n",
      "273/273 [==============================] - 1s 2ms/step - loss: 0.1714 - sparse_categorical_accuracy: 0.9338 - val_loss: 0.2122 - val_sparse_categorical_accuracy: 0.9307\n",
      "Epoch 83/100\n",
      "273/273 [==============================] - 1s 2ms/step - loss: 0.1694 - sparse_categorical_accuracy: 0.9334 - val_loss: 0.2118 - val_sparse_categorical_accuracy: 0.9316\n",
      "Epoch 84/100\n",
      "273/273 [==============================] - 1s 2ms/step - loss: 0.1681 - sparse_categorical_accuracy: 0.9359 - val_loss: 0.2172 - val_sparse_categorical_accuracy: 0.9343\n",
      "Epoch 85/100\n",
      "273/273 [==============================] - 1s 2ms/step - loss: 0.1698 - sparse_categorical_accuracy: 0.9333 - val_loss: 0.2130 - val_sparse_categorical_accuracy: 0.9325\n",
      "Epoch 86/100\n",
      "273/273 [==============================] - 1s 2ms/step - loss: 0.1672 - sparse_categorical_accuracy: 0.9364 - val_loss: 0.2052 - val_sparse_categorical_accuracy: 0.9343\n",
      "Epoch 87/100\n",
      "273/273 [==============================] - 1s 2ms/step - loss: 0.1681 - sparse_categorical_accuracy: 0.9377 - val_loss: 0.2048 - val_sparse_categorical_accuracy: 0.9320\n",
      "Epoch 88/100\n",
      "273/273 [==============================] - 1s 2ms/step - loss: 0.1685 - sparse_categorical_accuracy: 0.9341 - val_loss: 0.2084 - val_sparse_categorical_accuracy: 0.9334\n",
      "Epoch 89/100\n",
      "273/273 [==============================] - 1s 2ms/step - loss: 0.1676 - sparse_categorical_accuracy: 0.9351 - val_loss: 0.2034 - val_sparse_categorical_accuracy: 0.9339\n",
      "Epoch 90/100\n",
      "273/273 [==============================] - 1s 2ms/step - loss: 0.1640 - sparse_categorical_accuracy: 0.9378 - val_loss: 0.2035 - val_sparse_categorical_accuracy: 0.9348\n",
      "Epoch 91/100\n"
     ]
    },
    {
     "name": "stdout",
     "output_type": "stream",
     "text": [
      "273/273 [==============================] - 1s 2ms/step - loss: 0.1646 - sparse_categorical_accuracy: 0.9372 - val_loss: 0.2094 - val_sparse_categorical_accuracy: 0.9311\n",
      "Epoch 92/100\n",
      "273/273 [==============================] - 1s 2ms/step - loss: 0.1678 - sparse_categorical_accuracy: 0.9352 - val_loss: 0.2060 - val_sparse_categorical_accuracy: 0.9362\n",
      "Epoch 93/100\n",
      "273/273 [==============================] - 1s 2ms/step - loss: 0.1613 - sparse_categorical_accuracy: 0.9393 - val_loss: 0.2081 - val_sparse_categorical_accuracy: 0.9357\n",
      "Epoch 94/100\n",
      "273/273 [==============================] - 1s 2ms/step - loss: 0.1636 - sparse_categorical_accuracy: 0.9369 - val_loss: 0.2096 - val_sparse_categorical_accuracy: 0.9362\n",
      "Epoch 95/100\n",
      "273/273 [==============================] - 0s 2ms/step - loss: 0.1596 - sparse_categorical_accuracy: 0.9365 - val_loss: 0.2072 - val_sparse_categorical_accuracy: 0.9348\n",
      "Epoch 96/100\n",
      "273/273 [==============================] - 0s 2ms/step - loss: 0.1592 - sparse_categorical_accuracy: 0.9364 - val_loss: 0.2092 - val_sparse_categorical_accuracy: 0.9357\n",
      "Epoch 97/100\n",
      "273/273 [==============================] - 0s 2ms/step - loss: 0.1636 - sparse_categorical_accuracy: 0.9359 - val_loss: 0.2052 - val_sparse_categorical_accuracy: 0.9353\n",
      "Epoch 98/100\n",
      "273/273 [==============================] - 0s 2ms/step - loss: 0.1641 - sparse_categorical_accuracy: 0.9378 - val_loss: 0.2116 - val_sparse_categorical_accuracy: 0.9343\n",
      "Epoch 99/100\n",
      "273/273 [==============================] - 0s 2ms/step - loss: 0.1619 - sparse_categorical_accuracy: 0.9377 - val_loss: 0.2056 - val_sparse_categorical_accuracy: 0.9362\n",
      "Epoch 100/100\n",
      "273/273 [==============================] - 0s 2ms/step - loss: 0.1604 - sparse_categorical_accuracy: 0.9387 - val_loss: 0.2132 - val_sparse_categorical_accuracy: 0.9279\n"
     ]
    }
   ],
   "source": [
    "from tensorflow.keras.models import Sequential\n",
    "from tensorflow.keras.layers import Dense, Dropout\n",
    "from tensorflow.keras.optimizers import Adam\n",
    "from tensorflow.keras.losses import SparseCategoricalCrossentropy\n",
    "from tensorflow.keras.metrics import SparseCategoricalAccuracy\n",
    "\n",
    "model = Sequential([\n",
    "    Dense(128, activation='relu', input_shape=(X_train_scaled.shape[1],)),\n",
    "    Dropout(0.2),\n",
    "    Dense(64, activation='relu'),\n",
    "    Dropout(0.2),\n",
    "    Dense(32, activation='relu'),\n",
    "    Dense(7, activation='softmax')\n",
    "])\n",
    "\n",
    "model.compile(\n",
    "    loss=SparseCategoricalCrossentropy(),\n",
    "    optimizer=Adam(lr=0.001),\n",
    "    metrics=[SparseCategoricalAccuracy()]\n",
    ")\n",
    "\n",
    "history = model.fit(\n",
    "    X_train_scaled,\n",
    "    y_train,\n",
    "    epochs=100,\n",
    "    batch_size=32,\n",
    "    validation_split=0.2\n",
    ")\n",
    "\n"
   ]
  },
  {
   "cell_type": "code",
   "execution_count": 18,
   "id": "ac590d14",
   "metadata": {},
   "outputs": [
    {
     "name": "stdout",
     "output_type": "stream",
     "text": [
      "86/86 [==============================] - 0s 1ms/step\n",
      "Accuracy: 0.93279\n",
      "              precision    recall  f1-score   support\n",
      "\n",
      "           0       0.95      0.91      0.93       261\n",
      "           1       1.00      1.00      1.00       117\n",
      "           2       0.93      0.95      0.94       317\n",
      "           3       0.88      0.97      0.92       671\n",
      "           4       0.96      0.96      0.96       408\n",
      "           5       0.96      0.96      0.96       413\n",
      "           6       0.93      0.84      0.88       536\n",
      "\n",
      "    accuracy                           0.93      2723\n",
      "   macro avg       0.95      0.94      0.94      2723\n",
      "weighted avg       0.93      0.93      0.93      2723\n",
      "\n"
     ]
    }
   ],
   "source": [
    "from sklearn.metrics import classification_report,accuracy_score\n",
    "\n",
    "y_pred = model.predict(X_test_scaled)\n",
    "y_pred_labels = np.argmax(y_pred, axis=1)\n",
    "\n",
    "print('Accuracy: %.5f' % accuracy_score(y_test, y_pred_labels))\n",
    "print(classification_report(y_test, y_pred_labels))\n"
   ]
  },
  {
   "cell_type": "code",
   "execution_count": 19,
   "id": "a6577843",
   "metadata": {},
   "outputs": [
    {
     "data": {
      "image/png": "[encoded data removed]",
      "text/plain": [
       "<Figure size 640x480 with 1 Axes>"
      ]
     },
     "metadata": {},
     "output_type": "display_data"
    }
   ],
   "source": [
    "import matplotlib.pyplot as plt\n",
    "\n",
    "# Plot training & validation accuracy values\n",
    "plt.plot(history.history['sparse_categorical_accuracy'])\n",
    "plt.plot(history.history['val_sparse_categorical_accuracy'])\n",
    "plt.title('Model accuracy')\n",
    "plt.ylabel('Accuracy')\n",
    "plt.xlabel('Epoch')\n",
    "plt.legend(['Train', 'Validation'], loc='upper left')\n",
    "plt.show()"
   ]
  },
  {
   "cell_type": "code",
   "execution_count": 20,
   "id": "49399206",
   "metadata": {},
   "outputs": [
    {
     "data": {
      "image/png": "[encoded data removed]",
      "text/plain": [
       "<Figure size 640x480 with 1 Axes>"
      ]
     },
     "metadata": {},
     "output_type": "display_data"
    }
   ],
   "source": [
    "# Plot training & validation loss values\n",
    "plt.plot(history.history['loss'])\n",
    "plt.plot(history.history['val_loss'])\n",
    "plt.title('Model loss')\n",
    "plt.ylabel('Loss')\n",
    "plt.xlabel('Epoch')\n",
    "plt.legend(['Train', 'Validation'], loc='upper left')\n",
    "plt.show()"
   ]
  },
  {
   "cell_type": "code",
   "execution_count": 21,
   "id": "e472f129",
   "metadata": {},
   "outputs": [],
   "source": [
    "X_train, X_test, y_train, y_test = train_test_split(X, y, train_size=0.9, shuffle=True)"
   ]
  },
  {
   "cell_type": "code",
   "execution_count": 23,
   "id": "2b5ec326",
   "metadata": {},
   "outputs": [],
   "source": [
    "from sklearn.linear_model import LogisticRegression\n",
    "from sklearn.tree import DecisionTreeClassifier\n",
    "from sklearn.ensemble import RandomForestClassifier, GradientBoostingClassifier, VotingClassifier\n",
    "from sklearn.metrics import confusion_matrix"
   ]
  },
  {
   "cell_type": "markdown",
   "id": "5c530070",
   "metadata": {},
   "source": [
    "## Logistic Regression"
   ]
  },
  {
   "cell_type": "code",
   "execution_count": 28,
   "id": "30995a92",
   "metadata": {},
   "outputs": [
    {
     "name": "stderr",
     "output_type": "stream",
     "text": [
      "C:\\Users\\manis\\AppData\\Local\\Programs\\Python\\Python310\\lib\\site-packages\\sklearn\\utils\\optimize.py:210: ConvergenceWarning: newton-cg failed to converge. Increase the number of iterations.\n",
      "  warnings.warn(\n"
     ]
    },
    {
     "data": {
      "text/html": [
       "<style>#sk-container-id-1 {color: black;background-color: white;}#sk-container-id-1 pre{padding: 0;}#sk-container-id-1 div.sk-toggleable {background-color: white;}#sk-container-id-1 label.sk-toggleable__label {cursor: pointer;display: block;width: 100%;margin-bottom: 0;padding: 0.3em;box-sizing: border-box;text-align: center;}#sk-container-id-1 label.sk-toggleable__label-arrow:before {content: \"▸\";float: left;margin-right: 0.25em;color: #696969;}#sk-container-id-1 label.sk-toggleable__label-arrow:hover:before {color: black;}#sk-container-id-1 div.sk-estimator:hover label.sk-toggleable__label-arrow:before {color: black;}#sk-container-id-1 div.sk-toggleable__content {max-height: 0;max-width: 0;overflow: hidden;text-align: left;background-color: #f0f8ff;}#sk-container-id-1 div.sk-toggleable__content pre {margin: 0.2em;color: black;border-radius: 0.25em;background-color: #f0f8ff;}#sk-container-id-1 input.sk-toggleable__control:checked~div.sk-toggleable__content {max-height: 200px;max-width: 100%;overflow: auto;}#sk-container-id-1 input.sk-toggleable__control:checked~label.sk-toggleable__label-arrow:before {content: \"▾\";}#sk-container-id-1 div.sk-estimator input.sk-toggleable__control:checked~label.sk-toggleable__label {background-color: #d4ebff;}#sk-container-id-1 div.sk-label input.sk-toggleable__control:checked~label.sk-toggleable__label {background-color: #d4ebff;}#sk-container-id-1 input.sk-hidden--visually {border: 0;clip: rect(1px 1px 1px 1px);clip: rect(1px, 1px, 1px, 1px);height: 1px;margin: -1px;overflow: hidden;padding: 0;position: absolute;width: 1px;}#sk-container-id-1 div.sk-estimator {font-family: monospace;background-color: #f0f8ff;border: 1px dotted black;border-radius: 0.25em;box-sizing: border-box;margin-bottom: 0.5em;}#sk-container-id-1 div.sk-estimator:hover {background-color: #d4ebff;}#sk-container-id-1 div.sk-parallel-item::after {content: \"\";width: 100%;border-bottom: 1px solid gray;flex-grow: 1;}#sk-container-id-1 div.sk-label:hover label.sk-toggleable__label {background-color: #d4ebff;}#sk-container-id-1 div.sk-serial::before {content: \"\";position: absolute;border-left: 1px solid gray;box-sizing: border-box;top: 0;bottom: 0;left: 50%;z-index: 0;}#sk-container-id-1 div.sk-serial {display: flex;flex-direction: column;align-items: center;background-color: white;padding-right: 0.2em;padding-left: 0.2em;position: relative;}#sk-container-id-1 div.sk-item {position: relative;z-index: 1;}#sk-container-id-1 div.sk-parallel {display: flex;align-items: stretch;justify-content: center;background-color: white;position: relative;}#sk-container-id-1 div.sk-item::before, #sk-container-id-1 div.sk-parallel-item::before {content: \"\";position: absolute;border-left: 1px solid gray;box-sizing: border-box;top: 0;bottom: 0;left: 50%;z-index: -1;}#sk-container-id-1 div.sk-parallel-item {display: flex;flex-direction: column;z-index: 1;position: relative;background-color: white;}#sk-container-id-1 div.sk-parallel-item:first-child::after {align-self: flex-end;width: 50%;}#sk-container-id-1 div.sk-parallel-item:last-child::after {align-self: flex-start;width: 50%;}#sk-container-id-1 div.sk-parallel-item:only-child::after {width: 0;}#sk-container-id-1 div.sk-dashed-wrapped {border: 1px dashed gray;margin: 0 0.4em 0.5em 0.4em;box-sizing: border-box;padding-bottom: 0.4em;background-color: white;}#sk-container-id-1 div.sk-label label {font-family: monospace;font-weight: bold;display: inline-block;line-height: 1.2em;}#sk-container-id-1 div.sk-label-container {text-align: center;}#sk-container-id-1 div.sk-container {/* jupyter's `normalize.less` sets `[hidden] { display: none; }` but bootstrap.min.css set `[hidden] { display: none !important; }` so we also need the `!important` here to be able to override the default hidden behavior on the sphinx rendered scikit-learn.org. See: https://github.com/scikit-learn/scikit-learn/issues/21755 */display: inline-block !important;position: relative;}#sk-container-id-1 div.sk-text-repr-fallback {display: none;}</style><div id=\"sk-container-id-1\" class=\"sk-top-container\"><div class=\"sk-text-repr-fallback\"><pre>LogisticRegression(C=1, class_weight=&#x27;balanced&#x27;, multi_class=&#x27;multinomial&#x27;,\n",
       "                   random_state=44, solver=&#x27;newton-cg&#x27;)</pre><b>In a Jupyter environment, please rerun this cell to show the HTML representation or trust the notebook. <br />On GitHub, the HTML representation is unable to render, please try loading this page with nbviewer.org.</b></div><div class=\"sk-container\" hidden><div class=\"sk-item\"><div class=\"sk-estimator sk-toggleable\"><input class=\"sk-toggleable__control sk-hidden--visually\" id=\"sk-estimator-id-1\" type=\"checkbox\" checked><label for=\"sk-estimator-id-1\" class=\"sk-toggleable__label sk-toggleable__label-arrow\">LogisticRegression</label><div class=\"sk-toggleable__content\"><pre>LogisticRegression(C=1, class_weight=&#x27;balanced&#x27;, multi_class=&#x27;multinomial&#x27;,\n",
       "                   random_state=44, solver=&#x27;newton-cg&#x27;)</pre></div></div></div></div></div>"
      ],
      "text/plain": [
       "LogisticRegression(C=1, class_weight='balanced', multi_class='multinomial',\n",
       "                   random_state=44, solver='newton-cg')"
      ]
     },
     "execution_count": 28,
     "metadata": {},
     "output_type": "execute_result"
    }
   ],
   "source": [
    "LogisticRegressionModel = LogisticRegression(C=1, solver='newton-cg', class_weight='balanced', multi_class='multinomial',\n",
    "                            fit_intercept=True, max_iter=100, random_state=44)\n",
    "LogisticRegressionModel.fit(X_train, y_train)\n"
   ]
  },
  {
   "cell_type": "code",
   "execution_count": 32,
   "id": "e2279859",
   "metadata": {},
   "outputs": [
    {
     "name": "stdout",
     "output_type": "stream",
     "text": [
      "LogisticRegressionModel Test Score is :  0.9177679882525698\n"
     ]
    }
   ],
   "source": [
    "print('LogisticRegressionModel Test Score is : ' , LogisticRegressionModel.score(X_test, y_test))"
   ]
  },
  {
   "cell_type": "markdown",
   "id": "047b1087",
   "metadata": {},
   "source": [
    "## Decision Tree Classifier\n",
    "\n"
   ]
  },
  {
   "cell_type": "code",
   "execution_count": 30,
   "id": "6e7ec865",
   "metadata": {},
   "outputs": [
    {
     "data": {
      "text/html": [
       "<style>#sk-container-id-2 {color: black;background-color: white;}#sk-container-id-2 pre{padding: 0;}#sk-container-id-2 div.sk-toggleable {background-color: white;}#sk-container-id-2 label.sk-toggleable__label {cursor: pointer;display: block;width: 100%;margin-bottom: 0;padding: 0.3em;box-sizing: border-box;text-align: center;}#sk-container-id-2 label.sk-toggleable__label-arrow:before {content: \"▸\";float: left;margin-right: 0.25em;color: #696969;}#sk-container-id-2 label.sk-toggleable__label-arrow:hover:before {color: black;}#sk-container-id-2 div.sk-estimator:hover label.sk-toggleable__label-arrow:before {color: black;}#sk-container-id-2 div.sk-toggleable__content {max-height: 0;max-width: 0;overflow: hidden;text-align: left;background-color: #f0f8ff;}#sk-container-id-2 div.sk-toggleable__content pre {margin: 0.2em;color: black;border-radius: 0.25em;background-color: #f0f8ff;}#sk-container-id-2 input.sk-toggleable__control:checked~div.sk-toggleable__content {max-height: 200px;max-width: 100%;overflow: auto;}#sk-container-id-2 input.sk-toggleable__control:checked~label.sk-toggleable__label-arrow:before {content: \"▾\";}#sk-container-id-2 div.sk-estimator input.sk-toggleable__control:checked~label.sk-toggleable__label {background-color: #d4ebff;}#sk-container-id-2 div.sk-label input.sk-toggleable__control:checked~label.sk-toggleable__label {background-color: #d4ebff;}#sk-container-id-2 input.sk-hidden--visually {border: 0;clip: rect(1px 1px 1px 1px);clip: rect(1px, 1px, 1px, 1px);height: 1px;margin: -1px;overflow: hidden;padding: 0;position: absolute;width: 1px;}#sk-container-id-2 div.sk-estimator {font-family: monospace;background-color: #f0f8ff;border: 1px dotted black;border-radius: 0.25em;box-sizing: border-box;margin-bottom: 0.5em;}#sk-container-id-2 div.sk-estimator:hover {background-color: #d4ebff;}#sk-container-id-2 div.sk-parallel-item::after {content: \"\";width: 100%;border-bottom: 1px solid gray;flex-grow: 1;}#sk-container-id-2 div.sk-label:hover label.sk-toggleable__label {background-color: #d4ebff;}#sk-container-id-2 div.sk-serial::before {content: \"\";position: absolute;border-left: 1px solid gray;box-sizing: border-box;top: 0;bottom: 0;left: 50%;z-index: 0;}#sk-container-id-2 div.sk-serial {display: flex;flex-direction: column;align-items: center;background-color: white;padding-right: 0.2em;padding-left: 0.2em;position: relative;}#sk-container-id-2 div.sk-item {position: relative;z-index: 1;}#sk-container-id-2 div.sk-parallel {display: flex;align-items: stretch;justify-content: center;background-color: white;position: relative;}#sk-container-id-2 div.sk-item::before, #sk-container-id-2 div.sk-parallel-item::before {content: \"\";position: absolute;border-left: 1px solid gray;box-sizing: border-box;top: 0;bottom: 0;left: 50%;z-index: -1;}#sk-container-id-2 div.sk-parallel-item {display: flex;flex-direction: column;z-index: 1;position: relative;background-color: white;}#sk-container-id-2 div.sk-parallel-item:first-child::after {align-self: flex-end;width: 50%;}#sk-container-id-2 div.sk-parallel-item:last-child::after {align-self: flex-start;width: 50%;}#sk-container-id-2 div.sk-parallel-item:only-child::after {width: 0;}#sk-container-id-2 div.sk-dashed-wrapped {border: 1px dashed gray;margin: 0 0.4em 0.5em 0.4em;box-sizing: border-box;padding-bottom: 0.4em;background-color: white;}#sk-container-id-2 div.sk-label label {font-family: monospace;font-weight: bold;display: inline-block;line-height: 1.2em;}#sk-container-id-2 div.sk-label-container {text-align: center;}#sk-container-id-2 div.sk-container {/* jupyter's `normalize.less` sets `[hidden] { display: none; }` but bootstrap.min.css set `[hidden] { display: none !important; }` so we also need the `!important` here to be able to override the default hidden behavior on the sphinx rendered scikit-learn.org. See: https://github.com/scikit-learn/scikit-learn/issues/21755 */display: inline-block !important;position: relative;}#sk-container-id-2 div.sk-text-repr-fallback {display: none;}</style><div id=\"sk-container-id-2\" class=\"sk-top-container\"><div class=\"sk-text-repr-fallback\"><pre>DecisionTreeClassifier(max_depth=12, random_state=44)</pre><b>In a Jupyter environment, please rerun this cell to show the HTML representation or trust the notebook. <br />On GitHub, the HTML representation is unable to render, please try loading this page with nbviewer.org.</b></div><div class=\"sk-container\" hidden><div class=\"sk-item\"><div class=\"sk-estimator sk-toggleable\"><input class=\"sk-toggleable__control sk-hidden--visually\" id=\"sk-estimator-id-2\" type=\"checkbox\" checked><label for=\"sk-estimator-id-2\" class=\"sk-toggleable__label sk-toggleable__label-arrow\">DecisionTreeClassifier</label><div class=\"sk-toggleable__content\"><pre>DecisionTreeClassifier(max_depth=12, random_state=44)</pre></div></div></div></div></div>"
      ],
      "text/plain": [
       "DecisionTreeClassifier(max_depth=12, random_state=44)"
      ]
     },
     "execution_count": 30,
     "metadata": {},
     "output_type": "execute_result"
    }
   ],
   "source": [
    "DecisionTreeClassifierModel = DecisionTreeClassifier(criterion='gini',max_depth=12,random_state=44)\n",
    "DecisionTreeClassifierModel.fit(X_train, y_train)"
   ]
  },
  {
   "cell_type": "code",
   "execution_count": 31,
   "id": "497ec18b",
   "metadata": {},
   "outputs": [
    {
     "name": "stdout",
     "output_type": "stream",
     "text": [
      "DecisionTreeClassifierModel Test Score is :  0.9023494860499266\n"
     ]
    }
   ],
   "source": [
    "print('DecisionTreeClassifierModel Test Score is : ' , DecisionTreeClassifierModel.score(X_test, y_test))"
   ]
  },
  {
   "cell_type": "markdown",
   "id": "d48e9722",
   "metadata": {},
   "source": [
    "## Gradient Boosting Classifier"
   ]
  },
  {
   "cell_type": "code",
   "execution_count": 33,
   "id": "8c6ca2f1",
   "metadata": {},
   "outputs": [
    {
     "data": {
      "text/html": [
       "<style>#sk-container-id-3 {color: black;background-color: white;}#sk-container-id-3 pre{padding: 0;}#sk-container-id-3 div.sk-toggleable {background-color: white;}#sk-container-id-3 label.sk-toggleable__label {cursor: pointer;display: block;width: 100%;margin-bottom: 0;padding: 0.3em;box-sizing: border-box;text-align: center;}#sk-container-id-3 label.sk-toggleable__label-arrow:before {content: \"▸\";float: left;margin-right: 0.25em;color: #696969;}#sk-container-id-3 label.sk-toggleable__label-arrow:hover:before {color: black;}#sk-container-id-3 div.sk-estimator:hover label.sk-toggleable__label-arrow:before {color: black;}#sk-container-id-3 div.sk-toggleable__content {max-height: 0;max-width: 0;overflow: hidden;text-align: left;background-color: #f0f8ff;}#sk-container-id-3 div.sk-toggleable__content pre {margin: 0.2em;color: black;border-radius: 0.25em;background-color: #f0f8ff;}#sk-container-id-3 input.sk-toggleable__control:checked~div.sk-toggleable__content {max-height: 200px;max-width: 100%;overflow: auto;}#sk-container-id-3 input.sk-toggleable__control:checked~label.sk-toggleable__label-arrow:before {content: \"▾\";}#sk-container-id-3 div.sk-estimator input.sk-toggleable__control:checked~label.sk-toggleable__label {background-color: #d4ebff;}#sk-container-id-3 div.sk-label input.sk-toggleable__control:checked~label.sk-toggleable__label {background-color: #d4ebff;}#sk-container-id-3 input.sk-hidden--visually {border: 0;clip: rect(1px 1px 1px 1px);clip: rect(1px, 1px, 1px, 1px);height: 1px;margin: -1px;overflow: hidden;padding: 0;position: absolute;width: 1px;}#sk-container-id-3 div.sk-estimator {font-family: monospace;background-color: #f0f8ff;border: 1px dotted black;border-radius: 0.25em;box-sizing: border-box;margin-bottom: 0.5em;}#sk-container-id-3 div.sk-estimator:hover {background-color: #d4ebff;}#sk-container-id-3 div.sk-parallel-item::after {content: \"\";width: 100%;border-bottom: 1px solid gray;flex-grow: 1;}#sk-container-id-3 div.sk-label:hover label.sk-toggleable__label {background-color: #d4ebff;}#sk-container-id-3 div.sk-serial::before {content: \"\";position: absolute;border-left: 1px solid gray;box-sizing: border-box;top: 0;bottom: 0;left: 50%;z-index: 0;}#sk-container-id-3 div.sk-serial {display: flex;flex-direction: column;align-items: center;background-color: white;padding-right: 0.2em;padding-left: 0.2em;position: relative;}#sk-container-id-3 div.sk-item {position: relative;z-index: 1;}#sk-container-id-3 div.sk-parallel {display: flex;align-items: stretch;justify-content: center;background-color: white;position: relative;}#sk-container-id-3 div.sk-item::before, #sk-container-id-3 div.sk-parallel-item::before {content: \"\";position: absolute;border-left: 1px solid gray;box-sizing: border-box;top: 0;bottom: 0;left: 50%;z-index: -1;}#sk-container-id-3 div.sk-parallel-item {display: flex;flex-direction: column;z-index: 1;position: relative;background-color: white;}#sk-container-id-3 div.sk-parallel-item:first-child::after {align-self: flex-end;width: 50%;}#sk-container-id-3 div.sk-parallel-item:last-child::after {align-self: flex-start;width: 50%;}#sk-container-id-3 div.sk-parallel-item:only-child::after {width: 0;}#sk-container-id-3 div.sk-dashed-wrapped {border: 1px dashed gray;margin: 0 0.4em 0.5em 0.4em;box-sizing: border-box;padding-bottom: 0.4em;background-color: white;}#sk-container-id-3 div.sk-label label {font-family: monospace;font-weight: bold;display: inline-block;line-height: 1.2em;}#sk-container-id-3 div.sk-label-container {text-align: center;}#sk-container-id-3 div.sk-container {/* jupyter's `normalize.less` sets `[hidden] { display: none; }` but bootstrap.min.css set `[hidden] { display: none !important; }` so we also need the `!important` here to be able to override the default hidden behavior on the sphinx rendered scikit-learn.org. See: https://github.com/scikit-learn/scikit-learn/issues/21755 */display: inline-block !important;position: relative;}#sk-container-id-3 div.sk-text-repr-fallback {display: none;}</style><div id=\"sk-container-id-3\" class=\"sk-top-container\"><div class=\"sk-text-repr-fallback\"><pre>GradientBoostingClassifier(learning_rate=0.12, max_depth=5, n_estimators=50,\n",
       "                           random_state=0)</pre><b>In a Jupyter environment, please rerun this cell to show the HTML representation or trust the notebook. <br />On GitHub, the HTML representation is unable to render, please try loading this page with nbviewer.org.</b></div><div class=\"sk-container\" hidden><div class=\"sk-item\"><div class=\"sk-estimator sk-toggleable\"><input class=\"sk-toggleable__control sk-hidden--visually\" id=\"sk-estimator-id-3\" type=\"checkbox\" checked><label for=\"sk-estimator-id-3\" class=\"sk-toggleable__label sk-toggleable__label-arrow\">GradientBoostingClassifier</label><div class=\"sk-toggleable__content\"><pre>GradientBoostingClassifier(learning_rate=0.12, max_depth=5, n_estimators=50,\n",
       "                           random_state=0)</pre></div></div></div></div></div>"
      ],
      "text/plain": [
       "GradientBoostingClassifier(learning_rate=0.12, max_depth=5, n_estimators=50,\n",
       "                           random_state=0)"
      ]
     },
     "execution_count": 33,
     "metadata": {},
     "output_type": "execute_result"
    }
   ],
   "source": [
    "GBCModel = GradientBoostingClassifier(n_estimators=50, max_depth=5, learning_rate=0.12, random_state=0)\n",
    "GBCModel.fit(X_train, y_train)"
   ]
  },
  {
   "cell_type": "code",
   "execution_count": 34,
   "id": "f9f8f89d",
   "metadata": {},
   "outputs": [
    {
     "name": "stdout",
     "output_type": "stream",
     "text": [
      "GBCModel Test Score is :  0.9346549192364171\n"
     ]
    }
   ],
   "source": [
    "print('GBCModel Test Score is : ' , GBCModel.score(X_test, y_test))"
   ]
  },
  {
   "cell_type": "markdown",
   "id": "55847e47",
   "metadata": {},
   "source": [
    "## Voting Classifier"
   ]
  },
  {
   "cell_type": "code",
   "execution_count": 36,
   "id": "4b3446c1",
   "metadata": {},
   "outputs": [
    {
     "name": "stderr",
     "output_type": "stream",
     "text": [
      "C:\\Users\\manis\\AppData\\Local\\Programs\\Python\\Python310\\lib\\site-packages\\sklearn\\utils\\optimize.py:210: ConvergenceWarning: newton-cg failed to converge. Increase the number of iterations.\n",
      "  warnings.warn(\n"
     ]
    },
    {
     "data": {
      "text/html": [
       "<style>#sk-container-id-4 {color: black;background-color: white;}#sk-container-id-4 pre{padding: 0;}#sk-container-id-4 div.sk-toggleable {background-color: white;}#sk-container-id-4 label.sk-toggleable__label {cursor: pointer;display: block;width: 100%;margin-bottom: 0;padding: 0.3em;box-sizing: border-box;text-align: center;}#sk-container-id-4 label.sk-toggleable__label-arrow:before {content: \"▸\";float: left;margin-right: 0.25em;color: #696969;}#sk-container-id-4 label.sk-toggleable__label-arrow:hover:before {color: black;}#sk-container-id-4 div.sk-estimator:hover label.sk-toggleable__label-arrow:before {color: black;}#sk-container-id-4 div.sk-toggleable__content {max-height: 0;max-width: 0;overflow: hidden;text-align: left;background-color: #f0f8ff;}#sk-container-id-4 div.sk-toggleable__content pre {margin: 0.2em;color: black;border-radius: 0.25em;background-color: #f0f8ff;}#sk-container-id-4 input.sk-toggleable__control:checked~div.sk-toggleable__content {max-height: 200px;max-width: 100%;overflow: auto;}#sk-container-id-4 input.sk-toggleable__control:checked~label.sk-toggleable__label-arrow:before {content: \"▾\";}#sk-container-id-4 div.sk-estimator input.sk-toggleable__control:checked~label.sk-toggleable__label {background-color: #d4ebff;}#sk-container-id-4 div.sk-label input.sk-toggleable__control:checked~label.sk-toggleable__label {background-color: #d4ebff;}#sk-container-id-4 input.sk-hidden--visually {border: 0;clip: rect(1px 1px 1px 1px);clip: rect(1px, 1px, 1px, 1px);height: 1px;margin: -1px;overflow: hidden;padding: 0;position: absolute;width: 1px;}#sk-container-id-4 div.sk-estimator {font-family: monospace;background-color: #f0f8ff;border: 1px dotted black;border-radius: 0.25em;box-sizing: border-box;margin-bottom: 0.5em;}#sk-container-id-4 div.sk-estimator:hover {background-color: #d4ebff;}#sk-container-id-4 div.sk-parallel-item::after {content: \"\";width: 100%;border-bottom: 1px solid gray;flex-grow: 1;}#sk-container-id-4 div.sk-label:hover label.sk-toggleable__label {background-color: #d4ebff;}#sk-container-id-4 div.sk-serial::before {content: \"\";position: absolute;border-left: 1px solid gray;box-sizing: border-box;top: 0;bottom: 0;left: 50%;z-index: 0;}#sk-container-id-4 div.sk-serial {display: flex;flex-direction: column;align-items: center;background-color: white;padding-right: 0.2em;padding-left: 0.2em;position: relative;}#sk-container-id-4 div.sk-item {position: relative;z-index: 1;}#sk-container-id-4 div.sk-parallel {display: flex;align-items: stretch;justify-content: center;background-color: white;position: relative;}#sk-container-id-4 div.sk-item::before, #sk-container-id-4 div.sk-parallel-item::before {content: \"\";position: absolute;border-left: 1px solid gray;box-sizing: border-box;top: 0;bottom: 0;left: 50%;z-index: -1;}#sk-container-id-4 div.sk-parallel-item {display: flex;flex-direction: column;z-index: 1;position: relative;background-color: white;}#sk-container-id-4 div.sk-parallel-item:first-child::after {align-self: flex-end;width: 50%;}#sk-container-id-4 div.sk-parallel-item:last-child::after {align-self: flex-start;width: 50%;}#sk-container-id-4 div.sk-parallel-item:only-child::after {width: 0;}#sk-container-id-4 div.sk-dashed-wrapped {border: 1px dashed gray;margin: 0 0.4em 0.5em 0.4em;box-sizing: border-box;padding-bottom: 0.4em;background-color: white;}#sk-container-id-4 div.sk-label label {font-family: monospace;font-weight: bold;display: inline-block;line-height: 1.2em;}#sk-container-id-4 div.sk-label-container {text-align: center;}#sk-container-id-4 div.sk-container {/* jupyter's `normalize.less` sets `[hidden] { display: none; }` but bootstrap.min.css set `[hidden] { display: none !important; }` so we also need the `!important` here to be able to override the default hidden behavior on the sphinx rendered scikit-learn.org. See: https://github.com/scikit-learn/scikit-learn/issues/21755 */display: inline-block !important;position: relative;}#sk-container-id-4 div.sk-text-repr-fallback {display: none;}</style><div id=\"sk-container-id-4\" class=\"sk-top-container\"><div class=\"sk-text-repr-fallback\"><pre>VotingClassifier(estimators=[(&#x27;GBCModel&#x27;,\n",
       "                              GradientBoostingClassifier(learning_rate=0.12,\n",
       "                                                         max_depth=5,\n",
       "                                                         n_estimators=50,\n",
       "                                                         random_state=0)),\n",
       "                             (&#x27;LRModel&#x27;,\n",
       "                              LogisticRegression(C=1, class_weight=&#x27;balanced&#x27;,\n",
       "                                                 multi_class=&#x27;multinomial&#x27;,\n",
       "                                                 random_state=44,\n",
       "                                                 solver=&#x27;newton-cg&#x27;)),\n",
       "                             (&#x27;TDCModel&#x27;,\n",
       "                              DecisionTreeClassifier(max_depth=12,\n",
       "                                                     random_state=44))],\n",
       "                 voting=&#x27;soft&#x27;)</pre><b>In a Jupyter environment, please rerun this cell to show the HTML representation or trust the notebook. <br />On GitHub, the HTML representation is unable to render, please try loading this page with nbviewer.org.</b></div><div class=\"sk-container\" hidden><div class=\"sk-item sk-dashed-wrapped\"><div class=\"sk-label-container\"><div class=\"sk-label sk-toggleable\"><input class=\"sk-toggleable__control sk-hidden--visually\" id=\"sk-estimator-id-4\" type=\"checkbox\" ><label for=\"sk-estimator-id-4\" class=\"sk-toggleable__label sk-toggleable__label-arrow\">VotingClassifier</label><div class=\"sk-toggleable__content\"><pre>VotingClassifier(estimators=[(&#x27;GBCModel&#x27;,\n",
       "                              GradientBoostingClassifier(learning_rate=0.12,\n",
       "                                                         max_depth=5,\n",
       "                                                         n_estimators=50,\n",
       "                                                         random_state=0)),\n",
       "                             (&#x27;LRModel&#x27;,\n",
       "                              LogisticRegression(C=1, class_weight=&#x27;balanced&#x27;,\n",
       "                                                 multi_class=&#x27;multinomial&#x27;,\n",
       "                                                 random_state=44,\n",
       "                                                 solver=&#x27;newton-cg&#x27;)),\n",
       "                             (&#x27;TDCModel&#x27;,\n",
       "                              DecisionTreeClassifier(max_depth=12,\n",
       "                                                     random_state=44))],\n",
       "                 voting=&#x27;soft&#x27;)</pre></div></div></div><div class=\"sk-parallel\"><div class=\"sk-parallel-item\"><div class=\"sk-item\"><div class=\"sk-label-container\"><div class=\"sk-label sk-toggleable\"><label>GBCModel</label></div></div><div class=\"sk-serial\"><div class=\"sk-item\"><div class=\"sk-estimator sk-toggleable\"><input class=\"sk-toggleable__control sk-hidden--visually\" id=\"sk-estimator-id-5\" type=\"checkbox\" ><label for=\"sk-estimator-id-5\" class=\"sk-toggleable__label sk-toggleable__label-arrow\">GradientBoostingClassifier</label><div class=\"sk-toggleable__content\"><pre>GradientBoostingClassifier(learning_rate=0.12, max_depth=5, n_estimators=50,\n",
       "                           random_state=0)</pre></div></div></div></div></div></div><div class=\"sk-parallel-item\"><div class=\"sk-item\"><div class=\"sk-label-container\"><div class=\"sk-label sk-toggleable\"><label>LRModel</label></div></div><div class=\"sk-serial\"><div class=\"sk-item\"><div class=\"sk-estimator sk-toggleable\"><input class=\"sk-toggleable__control sk-hidden--visually\" id=\"sk-estimator-id-6\" type=\"checkbox\" ><label for=\"sk-estimator-id-6\" class=\"sk-toggleable__label sk-toggleable__label-arrow\">LogisticRegression</label><div class=\"sk-toggleable__content\"><pre>LogisticRegression(C=1, class_weight=&#x27;balanced&#x27;, multi_class=&#x27;multinomial&#x27;,\n",
       "                   random_state=44, solver=&#x27;newton-cg&#x27;)</pre></div></div></div></div></div></div><div class=\"sk-parallel-item\"><div class=\"sk-item\"><div class=\"sk-label-container\"><div class=\"sk-label sk-toggleable\"><label>TDCModel</label></div></div><div class=\"sk-serial\"><div class=\"sk-item\"><div class=\"sk-estimator sk-toggleable\"><input class=\"sk-toggleable__control sk-hidden--visually\" id=\"sk-estimator-id-7\" type=\"checkbox\" ><label for=\"sk-estimator-id-7\" class=\"sk-toggleable__label sk-toggleable__label-arrow\">DecisionTreeClassifier</label><div class=\"sk-toggleable__content\"><pre>DecisionTreeClassifier(max_depth=12, random_state=44)</pre></div></div></div></div></div></div></div></div></div></div>"
      ],
      "text/plain": [
       "VotingClassifier(estimators=[('GBCModel',\n",
       "                              GradientBoostingClassifier(learning_rate=0.12,\n",
       "                                                         max_depth=5,\n",
       "                                                         n_estimators=50,\n",
       "                                                         random_state=0)),\n",
       "                             ('LRModel',\n",
       "                              LogisticRegression(C=1, class_weight='balanced',\n",
       "                                                 multi_class='multinomial',\n",
       "                                                 random_state=44,\n",
       "                                                 solver='newton-cg')),\n",
       "                             ('TDCModel',\n",
       "                              DecisionTreeClassifier(max_depth=12,\n",
       "                                                     random_state=44))],\n",
       "                 voting='soft')"
      ]
     },
     "execution_count": 36,
     "metadata": {},
     "output_type": "execute_result"
    }
   ],
   "source": [
    "VotingClassifierModel = VotingClassifier(estimators=[('GBCModel',GBCModel),\n",
    "                                                     ('LRModel',LogisticRegressionModel),\n",
    "                                                     ('TDCModel',DecisionTreeClassifierModel)],\n",
    "                                         voting='soft')\n",
    "VotingClassifierModel.fit(X_train, y_train)"
   ]
  },
  {
   "cell_type": "code",
   "execution_count": 37,
   "id": "efc8eedb",
   "metadata": {},
   "outputs": [
    {
     "name": "stdout",
     "output_type": "stream",
     "text": [
      "VotingClassifierModel Test Score is :  0.9295154185022027\n"
     ]
    }
   ],
   "source": [
    "print('VotingClassifierModel Test Score is : ' , VotingClassifierModel.score(X_test, y_test))"
   ]
  },
  {
   "cell_type": "code",
   "execution_count": null,
   "id": "672c7f12",
   "metadata": {},
   "outputs": [],
   "source": []
  }
 ],
 "metadata": {
  "kernelspec": {
   "display_name": "Python 3 (ipykernel)",
   "language": "python",
   "name": "python3"
  },
  "language_info": {
   "codemirror_mode": {
    "name": "ipython",
    "version": 3
   },
   "file_extension": ".py",
   "mimetype": "text/x-python",
   "name": "python",
   "nbconvert_exporter": "python",
   "pygments_lexer": "ipython3",
   "version": "3.10.6"
  }
 },
 "nbformat": 4,
 "nbformat_minor": 5
}
