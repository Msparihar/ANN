{
 "cells": [
  {
   "cell_type": "code",
   "execution_count": 1,
   "id": "c7ed5e5a",
   "metadata": {},
   "outputs": [],
   "source": [
    "import numpy as np  # numpy for math\n",
    "import pandas as pd\n",
    "\n",
    "# Scikit learn\n",
    "from sklearn.model_selection import train_test_split\n",
    "from sklearn.cluster import KMeans\n",
    "from sklearn import manifold\n",
    "\n",
    "# TensorFlow and Keras\n",
    "import tensorflow as tf\n",
    "from tensorflow.keras.layers.experimental import preprocessing\n",
    "from tensorflow import keras"
   ]
  },
  {
   "cell_type": "code",
   "execution_count": 2,
   "id": "246f391d",
   "metadata": {},
   "outputs": [],
   "source": [
    "data = pd.read_csv(\"data.csv\")"
   ]
  },
  {
   "cell_type": "code",
   "execution_count": 3,
   "id": "bc458f7e",
   "metadata": {},
   "outputs": [
    {
     "data": {
      "text/html": [
       "<div>\n",
       "<style scoped>\n",
       "    .dataframe tbody tr th:only-of-type {\n",
       "        vertical-align: middle;\n",
       "    }\n",
       "\n",
       "    .dataframe tbody tr th {\n",
       "        vertical-align: top;\n",
       "    }\n",
       "\n",
       "    .dataframe thead th {\n",
       "        text-align: right;\n",
       "    }\n",
       "</style>\n",
       "<table border=\"1\" class=\"dataframe\">\n",
       "  <thead>\n",
       "    <tr style=\"text-align: right;\">\n",
       "      <th></th>\n",
       "      <th>asin</th>\n",
       "      <th>brand</th>\n",
       "      <th>title</th>\n",
       "      <th>url</th>\n",
       "      <th>image</th>\n",
       "      <th>rating</th>\n",
       "      <th>reviewUrl</th>\n",
       "      <th>totalReviews</th>\n",
       "      <th>price</th>\n",
       "      <th>originalPrice</th>\n",
       "    </tr>\n",
       "  </thead>\n",
       "  <tbody>\n",
       "    <tr>\n",
       "      <th>0</th>\n",
       "      <td>B0000SX2UC</td>\n",
       "      <td>NaN</td>\n",
       "      <td>Dual-Band / Tri-Mode Sprint PCS Phone w/ Voice...</td>\n",
       "      <td>https://www.amazon.com/Dual-Band-Tri-Mode-Acti...</td>\n",
       "      <td>https://m.media-amazon.com/images/I/2143EBQ210...</td>\n",
       "      <td>3.0</td>\n",
       "      <td>https://www.amazon.com/product-reviews/B0000SX2UC</td>\n",
       "      <td>14</td>\n",
       "      <td>0.00</td>\n",
       "      <td>0.0</td>\n",
       "    </tr>\n",
       "    <tr>\n",
       "      <th>1</th>\n",
       "      <td>B0009N5L7K</td>\n",
       "      <td>Motorola</td>\n",
       "      <td>Motorola I265 phone</td>\n",
       "      <td>https://www.amazon.com/Motorola-i265-I265-phon...</td>\n",
       "      <td>https://m.media-amazon.com/images/I/419WBAVDAR...</td>\n",
       "      <td>3.0</td>\n",
       "      <td>https://www.amazon.com/product-reviews/B0009N5L7K</td>\n",
       "      <td>7</td>\n",
       "      <td>49.95</td>\n",
       "      <td>0.0</td>\n",
       "    </tr>\n",
       "    <tr>\n",
       "      <th>2</th>\n",
       "      <td>B000SKTZ0S</td>\n",
       "      <td>Motorola</td>\n",
       "      <td>MOTOROLA C168i AT&amp;T CINGULAR PREPAID GOPHONE C...</td>\n",
       "      <td>https://www.amazon.com/MOTOROLA-C168i-CINGULAR...</td>\n",
       "      <td>https://m.media-amazon.com/images/I/71b+q3ydkI...</td>\n",
       "      <td>2.7</td>\n",
       "      <td>https://www.amazon.com/product-reviews/B000SKTZ0S</td>\n",
       "      <td>22</td>\n",
       "      <td>99.99</td>\n",
       "      <td>0.0</td>\n",
       "    </tr>\n",
       "    <tr>\n",
       "      <th>3</th>\n",
       "      <td>B001AO4OUC</td>\n",
       "      <td>Motorola</td>\n",
       "      <td>Motorola i335 Cell Phone Boost Mobile</td>\n",
       "      <td>https://www.amazon.com/Motorola-i335-Phone-Boo...</td>\n",
       "      <td>https://m.media-amazon.com/images/I/710UO8gdT+...</td>\n",
       "      <td>3.3</td>\n",
       "      <td>https://www.amazon.com/product-reviews/B001AO4OUC</td>\n",
       "      <td>21</td>\n",
       "      <td>0.00</td>\n",
       "      <td>0.0</td>\n",
       "    </tr>\n",
       "    <tr>\n",
       "      <th>4</th>\n",
       "      <td>B001DCJAJG</td>\n",
       "      <td>Motorola</td>\n",
       "      <td>Motorola V365 no contract cellular phone AT&amp;T</td>\n",
       "      <td>https://www.amazon.com/Motorola-V365-contract-...</td>\n",
       "      <td>https://m.media-amazon.com/images/I/61LYNCVrrK...</td>\n",
       "      <td>3.1</td>\n",
       "      <td>https://www.amazon.com/product-reviews/B001DCJAJG</td>\n",
       "      <td>12</td>\n",
       "      <td>149.99</td>\n",
       "      <td>0.0</td>\n",
       "    </tr>\n",
       "  </tbody>\n",
       "</table>\n",
       "</div>"
      ],
      "text/plain": [
       "         asin     brand                                              title  \\\n",
       "0  B0000SX2UC       NaN  Dual-Band / Tri-Mode Sprint PCS Phone w/ Voice...   \n",
       "1  B0009N5L7K  Motorola                                Motorola I265 phone   \n",
       "2  B000SKTZ0S  Motorola  MOTOROLA C168i AT&T CINGULAR PREPAID GOPHONE C...   \n",
       "3  B001AO4OUC  Motorola              Motorola i335 Cell Phone Boost Mobile   \n",
       "4  B001DCJAJG  Motorola      Motorola V365 no contract cellular phone AT&T   \n",
       "\n",
       "                                                 url  \\\n",
       "0  https://www.amazon.com/Dual-Band-Tri-Mode-Acti...   \n",
       "1  https://www.amazon.com/Motorola-i265-I265-phon...   \n",
       "2  https://www.amazon.com/MOTOROLA-C168i-CINGULAR...   \n",
       "3  https://www.amazon.com/Motorola-i335-Phone-Boo...   \n",
       "4  https://www.amazon.com/Motorola-V365-contract-...   \n",
       "\n",
       "                                               image  rating  \\\n",
       "0  https://m.media-amazon.com/images/I/2143EBQ210...     3.0   \n",
       "1  https://m.media-amazon.com/images/I/419WBAVDAR...     3.0   \n",
       "2  https://m.media-amazon.com/images/I/71b+q3ydkI...     2.7   \n",
       "3  https://m.media-amazon.com/images/I/710UO8gdT+...     3.3   \n",
       "4  https://m.media-amazon.com/images/I/61LYNCVrrK...     3.1   \n",
       "\n",
       "                                           reviewUrl  totalReviews   price  \\\n",
       "0  https://www.amazon.com/product-reviews/B0000SX2UC            14    0.00   \n",
       "1  https://www.amazon.com/product-reviews/B0009N5L7K             7   49.95   \n",
       "2  https://www.amazon.com/product-reviews/B000SKTZ0S            22   99.99   \n",
       "3  https://www.amazon.com/product-reviews/B001AO4OUC            21    0.00   \n",
       "4  https://www.amazon.com/product-reviews/B001DCJAJG            12  149.99   \n",
       "\n",
       "   originalPrice  \n",
       "0            0.0  \n",
       "1            0.0  \n",
       "2            0.0  \n",
       "3            0.0  \n",
       "4            0.0  "
      ]
     },
     "execution_count": 3,
     "metadata": {},
     "output_type": "execute_result"
    }
   ],
   "source": [
    "data.head()"
   ]
  },
  {
   "cell_type": "code",
   "execution_count": 5,
   "id": "d67167a0",
   "metadata": {},
   "outputs": [
    {
     "data": {
      "text/plain": [
       "(720, 10)"
      ]
     },
     "execution_count": 5,
     "metadata": {},
     "output_type": "execute_result"
    }
   ],
   "source": [
    "data.shape\n"
   ]
  },
  {
   "cell_type": "code",
   "execution_count": 8,
   "id": "88778737",
   "metadata": {},
   "outputs": [],
   "source": [
    "#Removing missing values\n",
    "items_features = data.copy().dropna() "
   ]
  },
  {
   "cell_type": "code",
   "execution_count": 9,
   "id": "40f32b70",
   "metadata": {},
   "outputs": [
    {
     "data": {
      "text/plain": [
       "(716, 10)"
      ]
     },
     "execution_count": 9,
     "metadata": {},
     "output_type": "execute_result"
    }
   ],
   "source": [
    "items_features.shape"
   ]
  },
  {
   "cell_type": "code",
   "execution_count": 10,
   "id": "c0754f46",
   "metadata": {},
   "outputs": [],
   "source": [
    "# Let's remove these columns as not interesting for us\n",
    "items_features.pop(\"url\")\n",
    "items_features.pop(\"image\")\n",
    "items_features.pop(\"reviewUrl\")\n",
    "p_labels = items_features.pop(\"asin\")"
   ]
  },
  {
   "cell_type": "code",
   "execution_count": 11,
   "id": "5e864f01",
   "metadata": {},
   "outputs": [
    {
     "data": {
      "text/plain": [
       "{'brand': <KerasTensor: shape=(None, 1) dtype=string (created by layer 'brand')>,\n",
       " 'title': <KerasTensor: shape=(None, 1) dtype=string (created by layer 'title')>,\n",
       " 'rating': <KerasTensor: shape=(None, 1) dtype=float32 (created by layer 'rating')>,\n",
       " 'totalReviews': <KerasTensor: shape=(None, 1) dtype=float32 (created by layer 'totalReviews')>,\n",
       " 'price': <KerasTensor: shape=(None, 1) dtype=float32 (created by layer 'price')>,\n",
       " 'originalPrice': <KerasTensor: shape=(None, 1) dtype=float32 (created by layer 'originalPrice')>}"
      ]
     },
     "execution_count": 11,
     "metadata": {},
     "output_type": "execute_result"
    }
   ],
   "source": [
    "inputs = {}\n",
    "for name, column in items_features.items():\n",
    "    dtype = column.dtype\n",
    "    if dtype == object:\n",
    "        dtype = tf.string\n",
    "    else:\n",
    "        dtype = tf.float32\n",
    "    inputs[name] = tf.keras.Input(shape=(1,), name=name, dtype=dtype)\n",
    "\n",
    "inputs"
   ]
  },
  {
   "cell_type": "code",
   "execution_count": 12,
   "id": "8819f460",
   "metadata": {},
   "outputs": [
    {
     "data": {
      "text/plain": [
       "<KerasTensor: shape=(None, 4) dtype=float32 (created by layer 'normalization')>"
      ]
     },
     "execution_count": 12,
     "metadata": {},
     "output_type": "execute_result"
    }
   ],
   "source": [
    "# deal with numeric features\n",
    "numeric_inputs = {name: input for name, input in inputs.items() if input.dtype == tf.float32}\n",
    "\n",
    "x = tf.keras.layers.Concatenate()(list(numeric_inputs.values()))\n",
    "norm = preprocessing.Normalization()\n",
    "norm.adapt(np.array(items_features[numeric_inputs.keys()]))\n",
    "all_numeric_inputs = norm(x)\n",
    "preprocessed_inputs = [all_numeric_inputs]\n",
    "\n",
    "all_numeric_inputs"
   ]
  },
  {
   "cell_type": "code",
   "execution_count": 14,
   "id": "af0ea8e3",
   "metadata": {},
   "outputs": [
    {
     "data": {
      "text/plain": [
       "[<KerasTensor: shape=(None, 4) dtype=float32 (created by layer 'normalization')>,\n",
       " <KerasTensor: shape=(None, 11) dtype=float32 (created by layer 'category_encoding')>,\n",
       " <KerasTensor: shape=(None, 715) dtype=float32 (created by layer 'category_encoding_1')>,\n",
       " <KerasTensor: shape=(None, 11) dtype=float32 (created by layer 'category_encoding_2')>,\n",
       " <KerasTensor: shape=(None, 715) dtype=float32 (created by layer 'category_encoding_3')>]"
      ]
     },
     "execution_count": 14,
     "metadata": {},
     "output_type": "execute_result"
    }
   ],
   "source": [
    "# deal with string features\n",
    "for name, input in inputs.items():\n",
    "    if input.dtype != tf.string:\n",
    "        continue\n",
    "\n",
    "    lookup = preprocessing.StringLookup(vocabulary=np.unique(items_features[name]))\n",
    "    one_hot = preprocessing.CategoryEncoding(num_tokens=lookup.vocabulary_size())\n",
    "\n",
    "    x = lookup(input)\n",
    "    x = one_hot(x)\n",
    "    preprocessed_inputs.append(x) # append preprocessed feature to features list\n",
    "    \n",
    "preprocessed_inputs"
   ]
  },
  {
   "cell_type": "code",
   "execution_count": 16,
   "id": "2da86a43",
   "metadata": {},
   "outputs": [
    {
     "name": "stdout",
     "output_type": "stream",
     "text": [
      "You must install pydot (`pip install pydot`) and install graphviz (see instructions at https://graphviz.gitlab.io/download/) for plot_model to work.\n"
     ]
    }
   ],
   "source": [
    "preprocessed_inputs_cat = keras.layers.Concatenate()(preprocessed_inputs)\n",
    "preprocessing_layer = tf.keras.Model(inputs, preprocessed_inputs_cat, name=\"ProcessData\")\n",
    "\n",
    "# this saves an image of the model, see note regarding plot_model issues\n",
    "tf.keras.utils.plot_model(model=preprocessing_layer, rankdir=\"LR\", dpi=130, show_shapes=True, to_file=\"processing.png\")"
   ]
  },
  {
   "cell_type": "code",
   "execution_count": 17,
   "id": "5cbdf038",
   "metadata": {},
   "outputs": [
    {
     "data": {
      "text/plain": [
       "{'brand': array(['Motorola', 'Motorola'], dtype=object),\n",
       " 'title': array(['MOTOROLA C168i AT&T CINGULAR PREPAID GOPHONE CELL PHONE',\n",
       "        'Motorola i335 Cell Phone Boost Mobile'], dtype=object),\n",
       " 'rating': array([2.7, 3.3]),\n",
       " 'totalReviews': array([22, 21], dtype=int64),\n",
       " 'price': array([99.99,  0.  ]),\n",
       " 'originalPrice': array([0., 0.])}"
      ]
     },
     "execution_count": 17,
     "metadata": {},
     "output_type": "execute_result"
    }
   ],
   "source": [
    "items_features_dict = {name: np.array(value) for name, value in items_features.items()}\n",
    "\n",
    "# grab two samples\n",
    "two_sample_dict = {name:values[1:3, ] for name, values in items_features_dict.items()}\n",
    "two_sample_dict"
   ]
  },
  {
   "cell_type": "code",
   "execution_count": 18,
   "id": "00a39891",
   "metadata": {},
   "outputs": [
    {
     "data": {
      "text/plain": [
       "<tf.Tensor: shape=(2, 1456), dtype=float32, numpy=\n",
       "array([[-1.4144896, -0.5002395, -0.6757149, ...,  0.       ,  0.       ,\n",
       "         0.       ],\n",
       "       [-0.5776014, -0.5061966, -1.1760992, ...,  0.       ,  0.       ,\n",
       "         0.       ]], dtype=float32)>"
      ]
     },
     "execution_count": 18,
     "metadata": {},
     "output_type": "execute_result"
    }
   ],
   "source": [
    "two_sample_fitted = preprocessing_layer(two_sample_dict)\n",
    "\n",
    "two_sample_fitted"
   ]
  },
  {
   "cell_type": "code",
   "execution_count": 19,
   "id": "a1b1c16a",
   "metadata": {},
   "outputs": [],
   "source": [
    "# This is the size of our input data\n",
    "full_dim = two_sample_fitted.shape.as_list()[1]\n",
    "\n",
    "# these are the downsampling/upsampling dimensions\n",
    "encoding_dim1 = 128\n",
    "encoding_dim2 = 16\n",
    "encoding_dim3 = 3 # we will use these 3 dimensions for clustering\n",
    "\n",
    "# This is our encoder input\n",
    "encoder_input_data = keras.Input(shape=(full_dim,))\n",
    "\n",
    "# the encoded representation of the input\n",
    "encoded_layer1 = keras.layers.Dense(encoding_dim1, activation='relu')(encoder_input_data)\n",
    "encoded_layer2 = keras.layers.Dense(encoding_dim2, activation='relu')(encoded_layer1)\n",
    "# Note that encoded_layer3 is our 3 dimensional \"clustered\" layer, which we will later use for clustering\n",
    "encoded_layer3 = keras.layers.Dense(encoding_dim3, activation='relu', name=\"ClusteringLayer\")(encoded_layer2)\n",
    "\n",
    "encoder_model = keras.Model(encoder_input_data, encoded_layer3)\n",
    "\n",
    "# the reconstruction of the input\n",
    "decoded_layer3 = keras.layers.Dense(encoding_dim2, activation='relu')(encoded_layer3)\n",
    "decoded_layer2 = keras.layers.Dense(encoding_dim1, activation='relu')(decoded_layer3)\n",
    "decoded_layer1 = keras.layers.Dense(full_dim, activation='sigmoid')(decoded_layer2)\n",
    "\n",
    "# This model maps an input to its autoencoder reconstruction\n",
    "autoencoder_model = keras.Model(encoder_input_data, outputs=decoded_layer1, name=\"Encoder\")\n",
    "\n",
    "# compile the model\n",
    "autoencoder_model.compile(optimizer=\"RMSprop\", loss=tf.keras.losses.mean_squared_error)"
   ]
  },
  {
   "cell_type": "code",
   "execution_count": 21,
   "id": "a57212db",
   "metadata": {},
   "outputs": [
    {
     "name": "stdout",
     "output_type": "stream",
     "text": [
      "Epoch 1/100\n",
      "3/3 [==============================] - 0s 21ms/step - loss: 0.0049 - val_loss: 0.0055\n",
      "Epoch 2/100\n",
      "3/3 [==============================] - 0s 21ms/step - loss: 0.0049 - val_loss: 0.0055\n",
      "Epoch 3/100\n",
      "3/3 [==============================] - 0s 21ms/step - loss: 0.0049 - val_loss: 0.0055\n",
      "Epoch 4/100\n",
      "3/3 [==============================] - 0s 21ms/step - loss: 0.0049 - val_loss: 0.0055\n",
      "Epoch 5/100\n",
      "3/3 [==============================] - 0s 21ms/step - loss: 0.0049 - val_loss: 0.0055\n",
      "Epoch 6/100\n",
      "3/3 [==============================] - 0s 21ms/step - loss: 0.0049 - val_loss: 0.0055\n",
      "Epoch 7/100\n",
      "3/3 [==============================] - 0s 21ms/step - loss: 0.0049 - val_loss: 0.0055\n",
      "Epoch 8/100\n",
      "3/3 [==============================] - 0s 21ms/step - loss: 0.0049 - val_loss: 0.0055\n",
      "Epoch 9/100\n",
      "3/3 [==============================] - 0s 20ms/step - loss: 0.0049 - val_loss: 0.0055\n",
      "Epoch 10/100\n",
      "3/3 [==============================] - 0s 21ms/step - loss: 0.0049 - val_loss: 0.0055\n",
      "Epoch 11/100\n",
      "3/3 [==============================] - 0s 21ms/step - loss: 0.0049 - val_loss: 0.0055\n",
      "Epoch 12/100\n",
      "3/3 [==============================] - 0s 21ms/step - loss: 0.0049 - val_loss: 0.0055\n",
      "Epoch 13/100\n",
      "3/3 [==============================] - 0s 20ms/step - loss: 0.0049 - val_loss: 0.0055\n",
      "Epoch 14/100\n",
      "3/3 [==============================] - 0s 20ms/step - loss: 0.0049 - val_loss: 0.0055\n",
      "Epoch 15/100\n",
      "3/3 [==============================] - 0s 20ms/step - loss: 0.0049 - val_loss: 0.0055\n",
      "Epoch 16/100\n",
      "3/3 [==============================] - 0s 20ms/step - loss: 0.0049 - val_loss: 0.0055\n",
      "Epoch 17/100\n",
      "3/3 [==============================] - 0s 21ms/step - loss: 0.0049 - val_loss: 0.0055\n",
      "Epoch 18/100\n",
      "3/3 [==============================] - 0s 21ms/step - loss: 0.0049 - val_loss: 0.0055\n",
      "Epoch 19/100\n",
      "3/3 [==============================] - 0s 21ms/step - loss: 0.0049 - val_loss: 0.0055\n",
      "Epoch 20/100\n",
      "3/3 [==============================] - 0s 21ms/step - loss: 0.0049 - val_loss: 0.0055\n",
      "Epoch 21/100\n",
      "3/3 [==============================] - 0s 21ms/step - loss: 0.0049 - val_loss: 0.0055\n",
      "Epoch 22/100\n",
      "3/3 [==============================] - 0s 21ms/step - loss: 0.0049 - val_loss: 0.0055\n",
      "Epoch 23/100\n",
      "3/3 [==============================] - 0s 20ms/step - loss: 0.0049 - val_loss: 0.0055\n",
      "Epoch 24/100\n",
      "3/3 [==============================] - 0s 21ms/step - loss: 0.0049 - val_loss: 0.0055\n",
      "Epoch 25/100\n",
      "3/3 [==============================] - 0s 22ms/step - loss: 0.0049 - val_loss: 0.0055\n",
      "Epoch 26/100\n",
      "3/3 [==============================] - 0s 22ms/step - loss: 0.0049 - val_loss: 0.0055\n",
      "Epoch 27/100\n",
      "3/3 [==============================] - 0s 22ms/step - loss: 0.0049 - val_loss: 0.0055\n",
      "Epoch 28/100\n",
      "3/3 [==============================] - 0s 23ms/step - loss: 0.0049 - val_loss: 0.0055\n",
      "Epoch 29/100\n",
      "3/3 [==============================] - 0s 21ms/step - loss: 0.0049 - val_loss: 0.0055\n",
      "Epoch 30/100\n",
      "3/3 [==============================] - 0s 21ms/step - loss: 0.0049 - val_loss: 0.0055\n",
      "Epoch 31/100\n",
      "3/3 [==============================] - 0s 22ms/step - loss: 0.0049 - val_loss: 0.0055\n",
      "Epoch 32/100\n",
      "3/3 [==============================] - 0s 21ms/step - loss: 0.0049 - val_loss: 0.0055\n",
      "Epoch 33/100\n",
      "3/3 [==============================] - 0s 21ms/step - loss: 0.0049 - val_loss: 0.0055\n",
      "Epoch 34/100\n",
      "3/3 [==============================] - 0s 20ms/step - loss: 0.0049 - val_loss: 0.0055\n",
      "Epoch 35/100\n",
      "3/3 [==============================] - 0s 21ms/step - loss: 0.0049 - val_loss: 0.0055\n",
      "Epoch 36/100\n",
      "3/3 [==============================] - 0s 21ms/step - loss: 0.0049 - val_loss: 0.0055\n",
      "Epoch 37/100\n",
      "3/3 [==============================] - 0s 20ms/step - loss: 0.0049 - val_loss: 0.0055\n",
      "Epoch 38/100\n",
      "3/3 [==============================] - 0s 21ms/step - loss: 0.0049 - val_loss: 0.0055\n",
      "Epoch 39/100\n",
      "3/3 [==============================] - 0s 23ms/step - loss: 0.0049 - val_loss: 0.0055\n",
      "Epoch 40/100\n",
      "3/3 [==============================] - 0s 21ms/step - loss: 0.0049 - val_loss: 0.0055\n",
      "Epoch 41/100\n",
      "3/3 [==============================] - 0s 23ms/step - loss: 0.0049 - val_loss: 0.0055\n",
      "Epoch 42/100\n",
      "3/3 [==============================] - 0s 21ms/step - loss: 0.0049 - val_loss: 0.0055\n",
      "Epoch 43/100\n",
      "3/3 [==============================] - 0s 22ms/step - loss: 0.0049 - val_loss: 0.0055\n",
      "Epoch 44/100\n",
      "3/3 [==============================] - 0s 21ms/step - loss: 0.0049 - val_loss: 0.0055\n",
      "Epoch 45/100\n",
      "3/3 [==============================] - 0s 22ms/step - loss: 0.0049 - val_loss: 0.0055\n",
      "Epoch 46/100\n",
      "3/3 [==============================] - 0s 21ms/step - loss: 0.0049 - val_loss: 0.0055\n",
      "Epoch 47/100\n",
      "3/3 [==============================] - 0s 20ms/step - loss: 0.0049 - val_loss: 0.0055\n",
      "Epoch 48/100\n",
      "3/3 [==============================] - 0s 24ms/step - loss: 0.0049 - val_loss: 0.0055\n",
      "Epoch 49/100\n",
      "3/3 [==============================] - 0s 21ms/step - loss: 0.0049 - val_loss: 0.0055\n",
      "Epoch 50/100\n",
      "3/3 [==============================] - 0s 21ms/step - loss: 0.0049 - val_loss: 0.0055\n",
      "Epoch 51/100\n",
      "3/3 [==============================] - 0s 21ms/step - loss: 0.0049 - val_loss: 0.0055\n",
      "Epoch 52/100\n",
      "3/3 [==============================] - 0s 21ms/step - loss: 0.0049 - val_loss: 0.0055\n",
      "Epoch 53/100\n",
      "3/3 [==============================] - 0s 21ms/step - loss: 0.0049 - val_loss: 0.0055\n",
      "Epoch 54/100\n",
      "3/3 [==============================] - 0s 22ms/step - loss: 0.0049 - val_loss: 0.0055\n",
      "Epoch 55/100\n",
      "3/3 [==============================] - 0s 21ms/step - loss: 0.0049 - val_loss: 0.0055\n",
      "Epoch 56/100\n",
      "3/3 [==============================] - 0s 21ms/step - loss: 0.0049 - val_loss: 0.0055\n",
      "Epoch 57/100\n",
      "3/3 [==============================] - 0s 20ms/step - loss: 0.0049 - val_loss: 0.0055\n",
      "Epoch 58/100\n",
      "3/3 [==============================] - 0s 21ms/step - loss: 0.0049 - val_loss: 0.0055\n",
      "Epoch 59/100\n",
      "3/3 [==============================] - 0s 21ms/step - loss: 0.0049 - val_loss: 0.0055\n",
      "Epoch 60/100\n",
      "3/3 [==============================] - 0s 21ms/step - loss: 0.0049 - val_loss: 0.0055\n",
      "Epoch 61/100\n",
      "3/3 [==============================] - 0s 20ms/step - loss: 0.0049 - val_loss: 0.0055\n",
      "Epoch 62/100\n",
      "3/3 [==============================] - 0s 19ms/step - loss: 0.0049 - val_loss: 0.0055\n",
      "Epoch 63/100\n",
      "3/3 [==============================] - 0s 21ms/step - loss: 0.0049 - val_loss: 0.0055\n",
      "Epoch 64/100\n",
      "3/3 [==============================] - 0s 20ms/step - loss: 0.0049 - val_loss: 0.0055\n",
      "Epoch 65/100\n",
      "3/3 [==============================] - 0s 21ms/step - loss: 0.0049 - val_loss: 0.0055\n",
      "Epoch 66/100\n",
      "3/3 [==============================] - 0s 21ms/step - loss: 0.0049 - val_loss: 0.0055\n",
      "Epoch 67/100\n",
      "3/3 [==============================] - 0s 21ms/step - loss: 0.0049 - val_loss: 0.0055\n",
      "Epoch 68/100\n",
      "3/3 [==============================] - 0s 20ms/step - loss: 0.0049 - val_loss: 0.0055\n",
      "Epoch 69/100\n",
      "3/3 [==============================] - 0s 21ms/step - loss: 0.0049 - val_loss: 0.0055\n",
      "Epoch 70/100\n",
      "3/3 [==============================] - 0s 21ms/step - loss: 0.0049 - val_loss: 0.0055\n",
      "Epoch 71/100\n",
      "3/3 [==============================] - 0s 20ms/step - loss: 0.0049 - val_loss: 0.0055\n",
      "Epoch 72/100\n",
      "3/3 [==============================] - 0s 20ms/step - loss: 0.0049 - val_loss: 0.0055\n",
      "Epoch 73/100\n",
      "3/3 [==============================] - 0s 20ms/step - loss: 0.0049 - val_loss: 0.0055\n",
      "Epoch 74/100\n",
      "3/3 [==============================] - 0s 23ms/step - loss: 0.0049 - val_loss: 0.0055\n",
      "Epoch 75/100\n",
      "3/3 [==============================] - 0s 23ms/step - loss: 0.0049 - val_loss: 0.0055\n",
      "Epoch 76/100\n",
      "3/3 [==============================] - 0s 23ms/step - loss: 0.0049 - val_loss: 0.0055\n",
      "Epoch 77/100\n",
      "3/3 [==============================] - 0s 22ms/step - loss: 0.0049 - val_loss: 0.0055\n",
      "Epoch 78/100\n",
      "3/3 [==============================] - 0s 21ms/step - loss: 0.0049 - val_loss: 0.0055\n",
      "Epoch 79/100\n",
      "3/3 [==============================] - 0s 20ms/step - loss: 0.0049 - val_loss: 0.0055\n",
      "Epoch 80/100\n",
      "3/3 [==============================] - 0s 20ms/step - loss: 0.0049 - val_loss: 0.0055\n",
      "Epoch 81/100\n",
      "3/3 [==============================] - 0s 20ms/step - loss: 0.0049 - val_loss: 0.0055\n",
      "Epoch 82/100\n",
      "3/3 [==============================] - 0s 20ms/step - loss: 0.0049 - val_loss: 0.0055\n",
      "Epoch 83/100\n",
      "3/3 [==============================] - 0s 21ms/step - loss: 0.0049 - val_loss: 0.0055\n"
     ]
    },
    {
     "name": "stdout",
     "output_type": "stream",
     "text": [
      "Epoch 84/100\n",
      "3/3 [==============================] - 0s 21ms/step - loss: 0.0049 - val_loss: 0.0055\n",
      "Epoch 85/100\n",
      "3/3 [==============================] - 0s 21ms/step - loss: 0.0049 - val_loss: 0.0055\n",
      "Epoch 86/100\n",
      "3/3 [==============================] - 0s 20ms/step - loss: 0.0049 - val_loss: 0.0055\n",
      "Epoch 87/100\n",
      "3/3 [==============================] - 0s 21ms/step - loss: 0.0049 - val_loss: 0.0055\n",
      "Epoch 88/100\n",
      "3/3 [==============================] - 0s 20ms/step - loss: 0.0049 - val_loss: 0.0055\n",
      "Epoch 89/100\n",
      "3/3 [==============================] - 0s 21ms/step - loss: 0.0049 - val_loss: 0.0055\n",
      "Epoch 90/100\n",
      "3/3 [==============================] - 0s 21ms/step - loss: 0.0049 - val_loss: 0.0055\n",
      "Epoch 91/100\n",
      "3/3 [==============================] - 0s 20ms/step - loss: 0.0049 - val_loss: 0.0055\n",
      "Epoch 92/100\n",
      "3/3 [==============================] - 0s 21ms/step - loss: 0.0049 - val_loss: 0.0055\n",
      "Epoch 93/100\n",
      "3/3 [==============================] - 0s 21ms/step - loss: 0.0049 - val_loss: 0.0055\n",
      "Epoch 94/100\n",
      "3/3 [==============================] - 0s 20ms/step - loss: 0.0049 - val_loss: 0.0055\n",
      "Epoch 95/100\n",
      "3/3 [==============================] - 0s 21ms/step - loss: 0.0049 - val_loss: 0.0055\n",
      "Epoch 96/100\n",
      "3/3 [==============================] - 0s 23ms/step - loss: 0.0049 - val_loss: 0.0055\n",
      "Epoch 97/100\n",
      "3/3 [==============================] - 0s 23ms/step - loss: 0.0049 - val_loss: 0.0055\n",
      "Epoch 98/100\n",
      "3/3 [==============================] - 0s 22ms/step - loss: 0.0049 - val_loss: 0.0055\n",
      "Epoch 99/100\n",
      "3/3 [==============================] - 0s 23ms/step - loss: 0.0049 - val_loss: 0.0055\n",
      "Epoch 100/100\n",
      "3/3 [==============================] - 0s 23ms/step - loss: 0.0049 - val_loss: 0.0055\n"
     ]
    }
   ],
   "source": [
    "# process the inputs\n",
    "p_items = preprocessing_layer(items_features_dict)\n",
    "\n",
    "# split into training and testing sets (80/20 split)\n",
    "train_data, test_data, train_labels, test_labels = train_test_split(p_items.numpy(), p_labels, train_size=0.8, random_state=5)\n",
    "\n",
    "# fit the model using the training data\n",
    "history = autoencoder_model.fit(train_data, train_data, epochs=100, batch_size=256, shuffle=True, validation_data=(test_data, test_data))"
   ]
  },
  {
   "cell_type": "code",
   "execution_count": 25,
   "id": "c6d4b1c0",
   "metadata": {},
   "outputs": [
    {
     "data": {
      "image/png": "[encoded data removed]",
      "text/plain": [
       "<Figure size 640x480 with 1 Axes>"
      ]
     },
     "metadata": {},
     "output_type": "display_data"
    }
   ],
   "source": [
    "\n",
    "encoded_items = encoder_model(p_items)\n",
    "\n",
    "# choose number of clusters K:\n",
    "Sum_of_squared_distances = []\n",
    "K = range(1,30)\n",
    "for k in K:\n",
    "    km = KMeans(init='k-means++', n_clusters=k, n_init=10)\n",
    "    km.fit(encoded_items)\n",
    "    Sum_of_squared_distances.append(km.inertia_)\n",
    "\n",
    "plt.plot(K, Sum_of_squared_distances, 'bx-')\n",
    "plt.vlines(ymin=0, ymax=150000, x=8, colors='red')\n",
    "plt.text(x=8.2, y=130000, s=\"optimal K=8\")\n",
    "plt.xlabel('Number of Clusters K')\n",
    "plt.ylabel('Sum of squared distances')\n",
    "plt.title('Elbow Method For Optimal K')\n",
    "plt.show()\n"
   ]
  },
  {
   "cell_type": "code",
   "execution_count": 26,
   "id": "c66ac131",
   "metadata": {},
   "outputs": [],
   "source": [
    "kmeans = KMeans(init='k-means++', n_clusters=8, n_init=10)\n",
    "kmeans.fit(encoded_items)\n",
    "P = kmeans.predict(encoded_items)"
   ]
  },
  {
   "cell_type": "code",
   "execution_count": null,
   "id": "14816c36",
   "metadata": {},
   "outputs": [],
   "source": []
  }
 ],
 "metadata": {
  "kernelspec": {
   "display_name": "Python 3 (ipykernel)",
   "language": "python",
   "name": "python3"
  },
  "language_info": {
   "codemirror_mode": {
    "name": "ipython",
    "version": 3
   },
   "file_extension": ".py",
   "mimetype": "text/x-python",
   "name": "python",
   "nbconvert_exporter": "python",
   "pygments_lexer": "ipython3",
   "version": "3.10.6"
  }
 },
 "nbformat": 4,
 "nbformat_minor": 5
}
